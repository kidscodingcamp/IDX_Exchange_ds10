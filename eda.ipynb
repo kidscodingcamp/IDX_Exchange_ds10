{
 "cells": [
  {
   "cell_type": "code",
   "execution_count": 1,
   "metadata": {},
   "outputs": [],
   "source": [
    "import pandas as pd\n",
    "import numpy as np\n",
    "\n",
    "crml = pd.read_csv(\"/Users/isaacchang/Desktop/idxexchange/CRMLSSold20220101_20231231_filled.csv\", low_memory = False)\n",
    "crml01 = pd.read_csv(\"/Users/isaacchang/Desktop/idxexchange/CRMLSSold202401_filled.csv\", low_memory = False)\n",
    "crml02 = pd.read_csv(\"/Users/isaacchang/Desktop/idxexchange/CRMLSSold202402_filled.csv\", low_memory = False)\n",
    "crml03 = pd.read_csv(\"/Users/isaacchang/Desktop/idxexchange/CRMLSSold202403_filled.csv\", low_memory = False)\n",
    "crml04 = pd.read_csv(\"/Users/isaacchang/Desktop/idxexchange/CRMLSSold202404_filled.csv\", low_memory = False)\n",
    "crml05 = pd.read_csv(\"/Users/isaacchang/Desktop/idxexchange/CRMLSSold202405_filled.csv\", low_memory = False)\n",
    "crml06 = pd.read_csv(\"/Users/isaacchang/Desktop/idxexchange/CRMLSSold202406_filled.csv\", low_memory = False)\n",
    "crml07 = pd.read_csv(\"/Users/isaacchang/Desktop/idxexchange/CRMLSSold202407_filled.csv\", low_memory = False)\n",
    "crml08 = pd.read_csv(\"/Users/isaacchang/Desktop/idxexchange/CRMLSSold202408.csv\", low_memory = False)\n",
    "crml09 = pd.read_csv(\"/Users/isaacchang/Desktop/idxexchange/CRMLSSold202409.csv\", low_memory = False)\n",
    "crml10 = pd.read_csv(\"/Users/isaacchang/Desktop/idxexchange/CRMLSSold202410.csv\", low_memory = False)"
   ]
  },
  {
   "cell_type": "code",
   "execution_count": 2,
   "metadata": {},
   "outputs": [
    {
     "data": {
      "text/html": [
       "<div>\n",
       "<style scoped>\n",
       "    .dataframe tbody tr th:only-of-type {\n",
       "        vertical-align: middle;\n",
       "    }\n",
       "\n",
       "    .dataframe tbody tr th {\n",
       "        vertical-align: top;\n",
       "    }\n",
       "\n",
       "    .dataframe thead th {\n",
       "        text-align: right;\n",
       "    }\n",
       "</style>\n",
       "<table border=\"1\" class=\"dataframe\">\n",
       "  <thead>\n",
       "    <tr style=\"text-align: right;\">\n",
       "      <th></th>\n",
       "      <th>Column</th>\n",
       "      <th>NaN_Percentage</th>\n",
       "    </tr>\n",
       "  </thead>\n",
       "  <tbody>\n",
       "    <tr>\n",
       "      <th>0</th>\n",
       "      <td>Flooring</td>\n",
       "      <td>35.908677</td>\n",
       "    </tr>\n",
       "    <tr>\n",
       "      <th>1</th>\n",
       "      <td>ViewYN</td>\n",
       "      <td>17.905897</td>\n",
       "    </tr>\n",
       "    <tr>\n",
       "      <th>2</th>\n",
       "      <td>WaterfrontYN</td>\n",
       "      <td>99.952044</td>\n",
       "    </tr>\n",
       "    <tr>\n",
       "      <th>3</th>\n",
       "      <td>BasementYN</td>\n",
       "      <td>97.580188</td>\n",
       "    </tr>\n",
       "    <tr>\n",
       "      <th>4</th>\n",
       "      <td>PoolPrivateYN</td>\n",
       "      <td>11.659036</td>\n",
       "    </tr>\n",
       "    <tr>\n",
       "      <th>...</th>\n",
       "      <td>...</td>\n",
       "      <td>...</td>\n",
       "    </tr>\n",
       "    <tr>\n",
       "      <th>75</th>\n",
       "      <td>AssociationFee</td>\n",
       "      <td>29.807627</td>\n",
       "    </tr>\n",
       "    <tr>\n",
       "      <th>76</th>\n",
       "      <td>LotSizeSquareFeet</td>\n",
       "      <td>1.772088</td>\n",
       "    </tr>\n",
       "    <tr>\n",
       "      <th>77</th>\n",
       "      <td>MiddleOrJuniorSchoolDistrict</td>\n",
       "      <td>100.000000</td>\n",
       "    </tr>\n",
       "    <tr>\n",
       "      <th>78</th>\n",
       "      <td>latfilled</td>\n",
       "      <td>0.000000</td>\n",
       "    </tr>\n",
       "    <tr>\n",
       "      <th>79</th>\n",
       "      <td>lonfilled</td>\n",
       "      <td>0.000000</td>\n",
       "    </tr>\n",
       "  </tbody>\n",
       "</table>\n",
       "<p>80 rows × 2 columns</p>\n",
       "</div>"
      ],
      "text/plain": [
       "                          Column  NaN_Percentage\n",
       "0                       Flooring       35.908677\n",
       "1                         ViewYN       17.905897\n",
       "2                   WaterfrontYN       99.952044\n",
       "3                     BasementYN       97.580188\n",
       "4                  PoolPrivateYN       11.659036\n",
       "..                           ...             ...\n",
       "75                AssociationFee       29.807627\n",
       "76             LotSizeSquareFeet        1.772088\n",
       "77  MiddleOrJuniorSchoolDistrict      100.000000\n",
       "78                     latfilled        0.000000\n",
       "79                     lonfilled        0.000000\n",
       "\n",
       "[80 rows x 2 columns]"
      ]
     },
     "execution_count": 2,
     "metadata": {},
     "output_type": "execute_result"
    }
   ],
   "source": [
    "#focusing only on single-family residences\n",
    "crml = crml[(crml['PropertyType'] == \"Residential\") &\n",
    "            (crml['PropertySubType'] == \"SingleFamilyResidence\")]\n",
    "\n",
    "#finding percentage of NaN for each column\n",
    "nan_percentage = (crml.isna().sum() / len(crml)) * 100\n",
    "nan_df = pd.DataFrame({\n",
    "    'Column': nan_percentage.index,\n",
    "    'NaN_Percentage': nan_percentage.values\n",
    "})\n",
    "\n",
    "nan_df"
   ]
  },
  {
   "cell_type": "code",
   "execution_count": 3,
   "metadata": {},
   "outputs": [
    {
     "data": {
      "text/plain": [
       "Index(['PoolPrivateYN', 'CloseDate', 'ClosePrice', 'LivingArea',\n",
       "       'LotSizeAcres', 'YearBuilt', 'BathroomsTotalInteger', 'City',\n",
       "       'BedroomsTotal', 'FireplaceYN', 'Levels', 'GarageSpaces'],\n",
       "      dtype='object')"
      ]
     },
     "execution_count": 3,
     "metadata": {},
     "output_type": "execute_result"
    }
   ],
   "source": [
    "#list of columns to drop\n",
    "columns_to_drop = [\n",
    "    'ListingKey', 'ListAgentEmail', 'ListAgentFirstName', 'ListAgentLastName', \n",
    "    'PropertyType', 'ListOfficeName', 'BuyerOfficeName', 'CoListOfficeName', \n",
    "    'ListAgentFullName', 'CoListAgentFirstName', 'CoListAgentLastName', \n",
    "    'BuyerAgentMlsId', 'BuyerAgentFirstName', 'BuyerAgentLastName', 'Latitude',\n",
    "    'FireplacesTotal', 'AboveGradeFinishedArea', 'ListingKeyNumeric', 'Longitude',\n",
    "    'TaxAnnualAmount', 'MlsStatus', 'ElementarySchool', 'BuilderName', 'LotSizeSquareFeet',\n",
    "    'PropertySubType', 'SubdivisionName', 'BuyerOfficeAOR', 'PostalCode',\n",
    "    'BuyerAgencyCompensationType', 'StreetNumberNumeric', 'ListingId', 'CountyOrParish',\n",
    "    'SubdivisionName', 'BuyerAgencyCompensation', 'TaxYear', 'BuildingAreaTotal', \n",
    "    'ContractStatusChangeDate', 'ElementarySchoolDistrict', 'CoBuyerAgentFirstName', \n",
    "    'PurchaseContractDate', 'ListingContractDate', 'BelowGradeFinishedArea', \n",
    "    'BusinessType', 'StateOrProvince', 'CoveredSpaces', 'MiddleOrJuniorSchool', \n",
    "    'Stories', 'HighSchool', 'LotSizeDimensions', 'HighSchoolDistrict', 'LotSizeArea',\n",
    "    'AssociationFee', 'MiddleOrJuniorSchoolDistrict', 'latfilled', 'lonfilled', \n",
    "    'WaterfrontYN', 'BasementYN', 'Flooring', 'AssociationFeeFrequency', 'ListPrice',\n",
    "    'MainLevelBedrooms', 'NewConstructionYN', 'DaysOnMarket', 'OriginalListPrice',\n",
    "    'UnparsedAddress', 'MLSAreaMajor', 'ParkingTotal', 'AttachedGarageYN', 'ViewYN'\n",
    "]\n",
    "\n",
    "crml = crml.drop(columns = columns_to_drop)\n",
    "\n",
    "crml.columns"
   ]
  },
  {
   "cell_type": "code",
   "execution_count": 4,
   "metadata": {},
   "outputs": [
    {
     "data": {
      "text/html": [
       "<div>\n",
       "<style scoped>\n",
       "    .dataframe tbody tr th:only-of-type {\n",
       "        vertical-align: middle;\n",
       "    }\n",
       "\n",
       "    .dataframe tbody tr th {\n",
       "        vertical-align: top;\n",
       "    }\n",
       "\n",
       "    .dataframe thead th {\n",
       "        text-align: right;\n",
       "    }\n",
       "</style>\n",
       "<table border=\"1\" class=\"dataframe\">\n",
       "  <thead>\n",
       "    <tr style=\"text-align: right;\">\n",
       "      <th></th>\n",
       "      <th>Column</th>\n",
       "      <th>NaN_Percentage</th>\n",
       "    </tr>\n",
       "  </thead>\n",
       "  <tbody>\n",
       "    <tr>\n",
       "      <th>0</th>\n",
       "      <td>PoolPrivateYN</td>\n",
       "      <td>11.659036</td>\n",
       "    </tr>\n",
       "    <tr>\n",
       "      <th>1</th>\n",
       "      <td>CloseDate</td>\n",
       "      <td>0.000000</td>\n",
       "    </tr>\n",
       "    <tr>\n",
       "      <th>2</th>\n",
       "      <td>ClosePrice</td>\n",
       "      <td>0.001296</td>\n",
       "    </tr>\n",
       "    <tr>\n",
       "      <th>3</th>\n",
       "      <td>LivingArea</td>\n",
       "      <td>0.069989</td>\n",
       "    </tr>\n",
       "    <tr>\n",
       "      <th>4</th>\n",
       "      <td>LotSizeAcres</td>\n",
       "      <td>1.823608</td>\n",
       "    </tr>\n",
       "    <tr>\n",
       "      <th>5</th>\n",
       "      <td>YearBuilt</td>\n",
       "      <td>0.103040</td>\n",
       "    </tr>\n",
       "    <tr>\n",
       "      <th>6</th>\n",
       "      <td>BathroomsTotalInteger</td>\n",
       "      <td>0.033374</td>\n",
       "    </tr>\n",
       "    <tr>\n",
       "      <th>7</th>\n",
       "      <td>City</td>\n",
       "      <td>0.675266</td>\n",
       "    </tr>\n",
       "    <tr>\n",
       "      <th>8</th>\n",
       "      <td>BedroomsTotal</td>\n",
       "      <td>0.000000</td>\n",
       "    </tr>\n",
       "    <tr>\n",
       "      <th>9</th>\n",
       "      <td>FireplaceYN</td>\n",
       "      <td>3.063324</td>\n",
       "    </tr>\n",
       "    <tr>\n",
       "      <th>10</th>\n",
       "      <td>Levels</td>\n",
       "      <td>15.293290</td>\n",
       "    </tr>\n",
       "    <tr>\n",
       "      <th>11</th>\n",
       "      <td>GarageSpaces</td>\n",
       "      <td>3.385728</td>\n",
       "    </tr>\n",
       "  </tbody>\n",
       "</table>\n",
       "</div>"
      ],
      "text/plain": [
       "                   Column  NaN_Percentage\n",
       "0           PoolPrivateYN       11.659036\n",
       "1               CloseDate        0.000000\n",
       "2              ClosePrice        0.001296\n",
       "3              LivingArea        0.069989\n",
       "4            LotSizeAcres        1.823608\n",
       "5               YearBuilt        0.103040\n",
       "6   BathroomsTotalInteger        0.033374\n",
       "7                    City        0.675266\n",
       "8           BedroomsTotal        0.000000\n",
       "9             FireplaceYN        3.063324\n",
       "10                 Levels       15.293290\n",
       "11           GarageSpaces        3.385728"
      ]
     },
     "execution_count": 4,
     "metadata": {},
     "output_type": "execute_result"
    }
   ],
   "source": [
    "nan_percentage = (crml.isna().sum() / len(crml)) * 100\n",
    "nan_df = pd.DataFrame({\n",
    "    'Column': nan_percentage.index,\n",
    "    'NaN_Percentage': nan_percentage.values\n",
    "})\n",
    "\n",
    "nan_df"
   ]
  },
  {
   "cell_type": "code",
   "execution_count": 5,
   "metadata": {},
   "outputs": [
    {
     "name": "stdout",
     "output_type": "stream",
     "text": [
      "Levels\n",
      "One            162340\n",
      "Two             89829\n",
      "ThreeOrMore      5209\n",
      "MultiSplit       4043\n",
      "Name: count, dtype: int64\n"
     ]
    }
   ],
   "source": [
    "#feature engineering the levels column\n",
    "crml['Levels'] = crml['Levels'].fillna(\"\").astype(str)\n",
    "crml['Levels'] = crml['Levels'].apply(lambda x: x.split(',')[-1].strip())\n",
    "crml['Levels'] = crml['Levels'].replace(r'^\\s*$', np.nan, regex=True)\n",
    "levels_counts = crml['Levels'].value_counts()\n",
    "print(levels_counts)"
   ]
  },
  {
   "cell_type": "code",
   "execution_count": 6,
   "metadata": {},
   "outputs": [
    {
     "data": {
      "image/png": "[encoded data removed]",
      "text/plain": [
       "<Figure size 1000x600 with 1 Axes>"
      ]
     },
     "metadata": {},
     "output_type": "display_data"
    }
   ],
   "source": [
    "import seaborn as sns\n",
    "import matplotlib.pyplot as plt\n",
    "\n",
    "plt.figure(figsize=(10, 6))\n",
    "sns.heatmap(crml.isnull(), cbar=False, cmap='viridis')\n",
    "plt.title('Missing Data Heatmap')\n",
    "\n",
    "plt.yticks([], [])\n",
    "plt.show()"
   ]
  },
  {
   "cell_type": "code",
   "execution_count": 7,
   "metadata": {},
   "outputs": [
    {
     "name": "stdout",
     "output_type": "stream",
     "text": [
      "original:  (308619, 12) \n",
      "cleaned:  (243506, 12)\n"
     ]
    }
   ],
   "source": [
    "#21.11% of rows dropped\n",
    "crml_cleaned = crml.dropna()\n",
    "print(\"original: \", crml.shape, \"\\ncleaned: \", crml_cleaned.shape)"
   ]
  },
  {
   "cell_type": "code",
   "execution_count": 8,
   "metadata": {},
   "outputs": [
    {
     "name": "stderr",
     "output_type": "stream",
     "text": [
      "/var/folders/zs/qvng4tz16j33kll86qkr6fc40000gn/T/ipykernel_54275/589502429.py:2: SettingWithCopyWarning: \n",
      "A value is trying to be set on a copy of a slice from a DataFrame.\n",
      "Try using .loc[row_indexer,col_indexer] = value instead\n",
      "\n",
      "See the caveats in the documentation: https://pandas.pydata.org/pandas-docs/stable/user_guide/indexing.html#returning-a-view-versus-a-copy\n",
      "  crml_cleaned['CloseDate'] = pd.to_datetime(crml_cleaned['CloseDate'], format='%Y-%m-%d', errors='coerce')\n"
     ]
    }
   ],
   "source": [
    "#Converting type to datetime\n",
    "crml_cleaned['CloseDate'] = pd.to_datetime(crml_cleaned['CloseDate'], format='%Y-%m-%d', errors='coerce')"
   ]
  },
  {
   "cell_type": "code",
   "execution_count": 9,
   "metadata": {},
   "outputs": [
    {
     "name": "stderr",
     "output_type": "stream",
     "text": [
      "/var/folders/zs/qvng4tz16j33kll86qkr6fc40000gn/T/ipykernel_54275/2023215788.py:2: SettingWithCopyWarning: \n",
      "A value is trying to be set on a copy of a slice from a DataFrame.\n",
      "Try using .loc[row_indexer,col_indexer] = value instead\n",
      "\n",
      "See the caveats in the documentation: https://pandas.pydata.org/pandas-docs/stable/user_guide/indexing.html#returning-a-view-versus-a-copy\n",
      "  crml_cleaned['YearBuilt'] = crml_cleaned['YearBuilt'].astype(int)\n",
      "/var/folders/zs/qvng4tz16j33kll86qkr6fc40000gn/T/ipykernel_54275/2023215788.py:3: SettingWithCopyWarning: \n",
      "A value is trying to be set on a copy of a slice from a DataFrame.\n",
      "Try using .loc[row_indexer,col_indexer] = value instead\n",
      "\n",
      "See the caveats in the documentation: https://pandas.pydata.org/pandas-docs/stable/user_guide/indexing.html#returning-a-view-versus-a-copy\n",
      "  crml_cleaned['YearBuilt'] = pd.to_datetime(crml_cleaned['YearBuilt'], format='%Y', errors='coerce')\n"
     ]
    }
   ],
   "source": [
    "#Converting type to datetime\n",
    "crml_cleaned['YearBuilt'] = crml_cleaned['YearBuilt'].astype(int)\n",
    "crml_cleaned['YearBuilt'] = pd.to_datetime(crml_cleaned['YearBuilt'], format='%Y', errors='coerce')"
   ]
  },
  {
   "cell_type": "code",
   "execution_count": 10,
   "metadata": {},
   "outputs": [
    {
     "name": "stderr",
     "output_type": "stream",
     "text": [
      "/var/folders/zs/qvng4tz16j33kll86qkr6fc40000gn/T/ipykernel_54275/3610219892.py:1: SettingWithCopyWarning: \n",
      "A value is trying to be set on a copy of a slice from a DataFrame.\n",
      "Try using .loc[row_indexer,col_indexer] = value instead\n",
      "\n",
      "See the caveats in the documentation: https://pandas.pydata.org/pandas-docs/stable/user_guide/indexing.html#returning-a-view-versus-a-copy\n",
      "  crml_cleaned['BuildingAge'] = crml_cleaned['CloseDate'].dt.year - crml_cleaned['YearBuilt'].dt.year\n",
      "/var/folders/zs/qvng4tz16j33kll86qkr6fc40000gn/T/ipykernel_54275/3610219892.py:2: SettingWithCopyWarning: \n",
      "A value is trying to be set on a copy of a slice from a DataFrame\n",
      "\n",
      "See the caveats in the documentation: https://pandas.pydata.org/pandas-docs/stable/user_guide/indexing.html#returning-a-view-versus-a-copy\n",
      "  crml_cleaned.drop(columns = 'YearBuilt', inplace = True)\n"
     ]
    }
   ],
   "source": [
    "crml_cleaned['BuildingAge'] = crml_cleaned['CloseDate'].dt.year - crml_cleaned['YearBuilt'].dt.year\n",
    "crml_cleaned.drop(columns = 'YearBuilt', inplace = True)"
   ]
  },
  {
   "cell_type": "code",
   "execution_count": 11,
   "metadata": {},
   "outputs": [
    {
     "name": "stdout",
     "output_type": "stream",
     "text": [
      "count    2.435060e+05\n",
      "mean     1.015594e+06\n",
      "std      9.620513e+05\n",
      "min      6.590000e+02\n",
      "25%      5.560000e+05\n",
      "50%      7.800000e+05\n",
      "75%      1.160000e+06\n",
      "max      4.350000e+07\n",
      "Name: ClosePrice, dtype: float64\n"
     ]
    },
    {
     "data": {
      "image/png": "[encoded data removed]",
      "text/plain": [
       "<Figure size 640x480 with 1 Axes>"
      ]
     },
     "metadata": {},
     "output_type": "display_data"
    }
   ],
   "source": [
    "#Very skewed left with outliers to the right\n",
    "print(crml_cleaned['ClosePrice'].describe())\n",
    "\n",
    "plt.hist(crml_cleaned['ClosePrice'], bins=50, alpha=0.7)\n",
    "plt.title('Distribution of Close Prices')\n",
    "plt.xlabel('Value')\n",
    "plt.ylabel('Frequency')\n",
    "plt.show()\n"
   ]
  },
  {
   "cell_type": "code",
   "execution_count": 12,
   "metadata": {},
   "outputs": [
    {
     "name": "stderr",
     "output_type": "stream",
     "text": [
      "/var/folders/zs/qvng4tz16j33kll86qkr6fc40000gn/T/ipykernel_54275/3206828551.py:1: SettingWithCopyWarning: \n",
      "A value is trying to be set on a copy of a slice from a DataFrame.\n",
      "Try using .loc[row_indexer,col_indexer] = value instead\n",
      "\n",
      "See the caveats in the documentation: https://pandas.pydata.org/pandas-docs/stable/user_guide/indexing.html#returning-a-view-versus-a-copy\n",
      "  crml_cleaned['ClosePrice_Log'] = np.log1p(crml_cleaned['ClosePrice'])\n"
     ]
    }
   ],
   "source": [
    "crml_cleaned['ClosePrice_Log'] = np.log1p(crml_cleaned['ClosePrice'])"
   ]
  },
  {
   "cell_type": "code",
   "execution_count": 13,
   "metadata": {},
   "outputs": [
    {
     "name": "stdout",
     "output_type": "stream",
     "text": [
      "count    243506.000000\n",
      "mean         13.618550\n",
      "std           0.606927\n",
      "min           6.492240\n",
      "25%          13.228525\n",
      "50%          13.567050\n",
      "75%          13.963931\n",
      "max          17.588272\n",
      "Name: ClosePrice_Log, dtype: float64\n"
     ]
    },
    {
     "data": {
      "image/png": "[encoded data removed]",
      "text/plain": [
       "<Figure size 640x480 with 1 Axes>"
      ]
     },
     "metadata": {},
     "output_type": "display_data"
    }
   ],
   "source": [
    "print(crml_cleaned['ClosePrice_Log'].describe())\n",
    "\n",
    "plt.hist(crml_cleaned['ClosePrice_Log'], bins=50, alpha=0.7)\n",
    "plt.title('Distribution of Close Prices')\n",
    "plt.xlabel('Value')\n",
    "plt.ylabel('Frequency')\n",
    "plt.show()"
   ]
  },
  {
   "cell_type": "code",
   "execution_count": 16,
   "metadata": {},
   "outputs": [
    {
     "name": "stderr",
     "output_type": "stream",
     "text": [
      "/var/folders/zs/qvng4tz16j33kll86qkr6fc40000gn/T/ipykernel_54275/49012743.py:1: SettingWithCopyWarning: \n",
      "A value is trying to be set on a copy of a slice from a DataFrame.\n",
      "Try using .loc[row_indexer,col_indexer] = value instead\n",
      "\n",
      "See the caveats in the documentation: https://pandas.pydata.org/pandas-docs/stable/user_guide/indexing.html#returning-a-view-versus-a-copy\n",
      "  crml_cleaned['PoolPrivateYN'] = crml_cleaned['PoolPrivateYN'].astype(int)\n",
      "/var/folders/zs/qvng4tz16j33kll86qkr6fc40000gn/T/ipykernel_54275/49012743.py:2: SettingWithCopyWarning: \n",
      "A value is trying to be set on a copy of a slice from a DataFrame.\n",
      "Try using .loc[row_indexer,col_indexer] = value instead\n",
      "\n",
      "See the caveats in the documentation: https://pandas.pydata.org/pandas-docs/stable/user_guide/indexing.html#returning-a-view-versus-a-copy\n",
      "  crml_cleaned['FireplaceYN'] = crml_cleaned['FireplaceYN'].astype(int)\n",
      "/var/folders/zs/qvng4tz16j33kll86qkr6fc40000gn/T/ipykernel_54275/49012743.py:3: SettingWithCopyWarning: \n",
      "A value is trying to be set on a copy of a slice from a DataFrame.\n",
      "Try using .loc[row_indexer,col_indexer] = value instead\n",
      "\n",
      "See the caveats in the documentation: https://pandas.pydata.org/pandas-docs/stable/user_guide/indexing.html#returning-a-view-versus-a-copy\n",
      "  crml_cleaned['LivingArea'] = crml_cleaned['LivingArea'].astype(int)\n",
      "/var/folders/zs/qvng4tz16j33kll86qkr6fc40000gn/T/ipykernel_54275/49012743.py:4: SettingWithCopyWarning: \n",
      "A value is trying to be set on a copy of a slice from a DataFrame.\n",
      "Try using .loc[row_indexer,col_indexer] = value instead\n",
      "\n",
      "See the caveats in the documentation: https://pandas.pydata.org/pandas-docs/stable/user_guide/indexing.html#returning-a-view-versus-a-copy\n",
      "  crml_cleaned['BathroomsTotalInteger'] = crml_cleaned['BathroomsTotalInteger'].astype(int)\n",
      "/var/folders/zs/qvng4tz16j33kll86qkr6fc40000gn/T/ipykernel_54275/49012743.py:5: SettingWithCopyWarning: \n",
      "A value is trying to be set on a copy of a slice from a DataFrame.\n",
      "Try using .loc[row_indexer,col_indexer] = value instead\n",
      "\n",
      "See the caveats in the documentation: https://pandas.pydata.org/pandas-docs/stable/user_guide/indexing.html#returning-a-view-versus-a-copy\n",
      "  crml_cleaned['BedroomsTotal'] = crml_cleaned['BedroomsTotal'].astype(int)\n",
      "/var/folders/zs/qvng4tz16j33kll86qkr6fc40000gn/T/ipykernel_54275/49012743.py:6: SettingWithCopyWarning: \n",
      "A value is trying to be set on a copy of a slice from a DataFrame.\n",
      "Try using .loc[row_indexer,col_indexer] = value instead\n",
      "\n",
      "See the caveats in the documentation: https://pandas.pydata.org/pandas-docs/stable/user_guide/indexing.html#returning-a-view-versus-a-copy\n",
      "  crml_cleaned['GarageSpaces'] = crml_cleaned['GarageSpaces'].astype(int)\n"
     ]
    }
   ],
   "source": [
    "crml_cleaned['PoolPrivateYN'] = crml_cleaned['PoolPrivateYN'].astype(int)\n",
    "crml_cleaned['FireplaceYN'] = crml_cleaned['FireplaceYN'].astype(int)\n",
    "crml_cleaned['LivingArea'] = crml_cleaned['LivingArea'].astype(int)\n",
    "crml_cleaned['BathroomsTotalInteger'] = crml_cleaned['BathroomsTotalInteger'].astype(int)\n",
    "crml_cleaned['BedroomsTotal'] = crml_cleaned['BedroomsTotal'].astype(int)\n",
    "crml_cleaned['GarageSpaces'] = crml_cleaned['GarageSpaces'].astype(int)"
   ]
  },
  {
   "cell_type": "code",
   "execution_count": 17,
   "metadata": {},
   "outputs": [
    {
     "name": "stdout",
     "output_type": "stream",
     "text": [
      "PoolPrivateYN                     int64\n",
      "CloseDate                datetime64[ns]\n",
      "ClosePrice                      float64\n",
      "LivingArea                        int64\n",
      "LotSizeAcres                    float64\n",
      "BathroomsTotalInteger             int64\n",
      "City                             object\n",
      "BedroomsTotal                     int64\n",
      "FireplaceYN                       int64\n",
      "Levels                           object\n",
      "GarageSpaces                      int64\n",
      "BuildingAge                       int32\n",
      "ClosePrice_Log                  float64\n",
      "dtype: object\n"
     ]
    }
   ],
   "source": [
    "#Display the data types of all columns\n",
    "print(crml_cleaned.dtypes)"
   ]
  },
  {
   "cell_type": "code",
   "execution_count": 18,
   "metadata": {},
   "outputs": [],
   "source": [
    "#One-hot encoding the 'Levels' column\n",
    "crml_cleaned = pd.get_dummies(crml_cleaned, columns=['Levels'])\n",
    "\n",
    "level_columns = ['Levels_MultiSplit', 'Levels_One', 'Levels_ThreeOrMore', 'Levels_Two']\n",
    "crml_cleaned[level_columns] = crml_cleaned[level_columns].astype(int)"
   ]
  },
  {
   "cell_type": "code",
   "execution_count": 19,
   "metadata": {},
   "outputs": [
    {
     "data": {
      "text/html": [
       "<div>\n",
       "<style scoped>\n",
       "    .dataframe tbody tr th:only-of-type {\n",
       "        vertical-align: middle;\n",
       "    }\n",
       "\n",
       "    .dataframe tbody tr th {\n",
       "        vertical-align: top;\n",
       "    }\n",
       "\n",
       "    .dataframe thead th {\n",
       "        text-align: right;\n",
       "    }\n",
       "</style>\n",
       "<table border=\"1\" class=\"dataframe\">\n",
       "  <thead>\n",
       "    <tr style=\"text-align: right;\">\n",
       "      <th></th>\n",
       "      <th>PoolPrivateYN</th>\n",
       "      <th>CloseDate</th>\n",
       "      <th>ClosePrice</th>\n",
       "      <th>LivingArea</th>\n",
       "      <th>LotSizeAcres</th>\n",
       "      <th>BathroomsTotalInteger</th>\n",
       "      <th>City</th>\n",
       "      <th>BedroomsTotal</th>\n",
       "      <th>FireplaceYN</th>\n",
       "      <th>GarageSpaces</th>\n",
       "      <th>BuildingAge</th>\n",
       "      <th>ClosePrice_Log</th>\n",
       "      <th>Levels_MultiSplit</th>\n",
       "      <th>Levels_One</th>\n",
       "      <th>Levels_ThreeOrMore</th>\n",
       "      <th>Levels_Two</th>\n",
       "    </tr>\n",
       "  </thead>\n",
       "  <tbody>\n",
       "    <tr>\n",
       "      <th>3</th>\n",
       "      <td>0</td>\n",
       "      <td>2022-01-04</td>\n",
       "      <td>2499999.0</td>\n",
       "      <td>2645</td>\n",
       "      <td>0.3071</td>\n",
       "      <td>4</td>\n",
       "      <td>Carlsbad</td>\n",
       "      <td>4</td>\n",
       "      <td>0</td>\n",
       "      <td>2</td>\n",
       "      <td>6</td>\n",
       "      <td>14.731801</td>\n",
       "      <td>0</td>\n",
       "      <td>0</td>\n",
       "      <td>1</td>\n",
       "      <td>0</td>\n",
       "    </tr>\n",
       "    <tr>\n",
       "      <th>6</th>\n",
       "      <td>0</td>\n",
       "      <td>2022-01-10</td>\n",
       "      <td>640000.0</td>\n",
       "      <td>2070</td>\n",
       "      <td>0.0780</td>\n",
       "      <td>3</td>\n",
       "      <td>Lake Arrowhead</td>\n",
       "      <td>3</td>\n",
       "      <td>1</td>\n",
       "      <td>1</td>\n",
       "      <td>15</td>\n",
       "      <td>13.369225</td>\n",
       "      <td>0</td>\n",
       "      <td>0</td>\n",
       "      <td>1</td>\n",
       "      <td>0</td>\n",
       "    </tr>\n",
       "    <tr>\n",
       "      <th>7</th>\n",
       "      <td>0</td>\n",
       "      <td>2022-03-23</td>\n",
       "      <td>438000.0</td>\n",
       "      <td>1174</td>\n",
       "      <td>0.2273</td>\n",
       "      <td>2</td>\n",
       "      <td>Fontana</td>\n",
       "      <td>3</td>\n",
       "      <td>0</td>\n",
       "      <td>2</td>\n",
       "      <td>62</td>\n",
       "      <td>12.989976</td>\n",
       "      <td>0</td>\n",
       "      <td>1</td>\n",
       "      <td>0</td>\n",
       "      <td>0</td>\n",
       "    </tr>\n",
       "    <tr>\n",
       "      <th>14</th>\n",
       "      <td>0</td>\n",
       "      <td>2022-01-19</td>\n",
       "      <td>399990.0</td>\n",
       "      <td>1422</td>\n",
       "      <td>0.2800</td>\n",
       "      <td>2</td>\n",
       "      <td>Paradise</td>\n",
       "      <td>3</td>\n",
       "      <td>0</td>\n",
       "      <td>2</td>\n",
       "      <td>1</td>\n",
       "      <td>12.899197</td>\n",
       "      <td>0</td>\n",
       "      <td>1</td>\n",
       "      <td>0</td>\n",
       "      <td>0</td>\n",
       "    </tr>\n",
       "    <tr>\n",
       "      <th>21</th>\n",
       "      <td>0</td>\n",
       "      <td>2022-01-03</td>\n",
       "      <td>1839270.0</td>\n",
       "      <td>3773</td>\n",
       "      <td>0.1738</td>\n",
       "      <td>4</td>\n",
       "      <td>Rancho Penasquitos</td>\n",
       "      <td>6</td>\n",
       "      <td>1</td>\n",
       "      <td>3</td>\n",
       "      <td>20</td>\n",
       "      <td>14.424880</td>\n",
       "      <td>0</td>\n",
       "      <td>0</td>\n",
       "      <td>0</td>\n",
       "      <td>1</td>\n",
       "    </tr>\n",
       "  </tbody>\n",
       "</table>\n",
       "</div>"
      ],
      "text/plain": [
       "    PoolPrivateYN  CloseDate  ClosePrice  LivingArea  LotSizeAcres  \\\n",
       "3               0 2022-01-04   2499999.0        2645        0.3071   \n",
       "6               0 2022-01-10    640000.0        2070        0.0780   \n",
       "7               0 2022-03-23    438000.0        1174        0.2273   \n",
       "14              0 2022-01-19    399990.0        1422        0.2800   \n",
       "21              0 2022-01-03   1839270.0        3773        0.1738   \n",
       "\n",
       "    BathroomsTotalInteger                City  BedroomsTotal  FireplaceYN  \\\n",
       "3                       4            Carlsbad              4            0   \n",
       "6                       3      Lake Arrowhead              3            1   \n",
       "7                       2             Fontana              3            0   \n",
       "14                      2            Paradise              3            0   \n",
       "21                      4  Rancho Penasquitos              6            1   \n",
       "\n",
       "    GarageSpaces  BuildingAge  ClosePrice_Log  Levels_MultiSplit  Levels_One  \\\n",
       "3              2            6       14.731801                  0           0   \n",
       "6              1           15       13.369225                  0           0   \n",
       "7              2           62       12.989976                  0           1   \n",
       "14             2            1       12.899197                  0           1   \n",
       "21             3           20       14.424880                  0           0   \n",
       "\n",
       "    Levels_ThreeOrMore  Levels_Two  \n",
       "3                    1           0  \n",
       "6                    1           0  \n",
       "7                    0           0  \n",
       "14                   0           0  \n",
       "21                   0           1  "
      ]
     },
     "execution_count": 19,
     "metadata": {},
     "output_type": "execute_result"
    }
   ],
   "source": [
    "crml_cleaned.head()"
   ]
  },
  {
   "cell_type": "code",
   "execution_count": 20,
   "metadata": {},
   "outputs": [
    {
     "name": "stdout",
     "output_type": "stream",
     "text": [
      "        LivingArea  LivingArea_Log  LivingArea_Log_Scaled\n",
      "3             2645        7.880804               0.579748\n",
      "6             2070        7.635787               0.561724\n",
      "7             1174        7.069023               0.520030\n",
      "14            1422        7.260523               0.534118\n",
      "21            3773        8.235891               0.605870\n",
      "...            ...             ...                    ...\n",
      "585823        3588        8.185629               0.602173\n",
      "585824         900        6.803505               0.500497\n",
      "585825         975        6.883463               0.506379\n",
      "585827        3281        8.096208               0.595594\n",
      "585830        1207        7.096721               0.522068\n",
      "\n",
      "[243506 rows x 3 columns]\n"
     ]
    }
   ],
   "source": [
    "#Log transforming then min-max scaling\n",
    "from sklearn.preprocessing import MinMaxScaler\n",
    "\n",
    "crml_cleaned['LivingArea_Log'] = np.log1p(crml_cleaned['LivingArea'])\n",
    "\n",
    "scaler = MinMaxScaler()\n",
    "crml_cleaned['LivingArea_Log_Scaled'] = scaler.fit_transform(crml_cleaned[['LivingArea_Log']])\n",
    "\n",
    "print(crml_cleaned[['LivingArea', 'LivingArea_Log', 'LivingArea_Log_Scaled']])"
   ]
  },
  {
   "cell_type": "code",
   "execution_count": 21,
   "metadata": {},
   "outputs": [
    {
     "name": "stdout",
     "output_type": "stream",
     "text": [
      "        LotSizeAcres  LotSizeAcres_Log  LotSizeAcres_Log_Scaled\n",
      "3             0.3071          0.267811                 0.019284\n",
      "6             0.0780          0.075107                 0.005408\n",
      "7             0.2273          0.204817                 0.014748\n",
      "14            0.2800          0.246860                 0.017775\n",
      "21            0.1738          0.160246                 0.011539\n",
      "...              ...               ...                      ...\n",
      "585823        0.1700          0.157004                 0.011305\n",
      "585824        5.0000          1.791759                 0.129018\n",
      "585825        0.2400          0.215111                 0.015489\n",
      "585827        0.4600          0.378436                 0.027250\n",
      "585830        5.4500          1.864080                 0.134226\n",
      "\n",
      "[243506 rows x 3 columns]\n"
     ]
    }
   ],
   "source": [
    "crml_cleaned['LotSizeAcres_Log'] = np.log1p(crml_cleaned['LotSizeAcres'])\n",
    "\n",
    "scaler = MinMaxScaler()\n",
    "crml_cleaned['LotSizeAcres_Log_Scaled'] = scaler.fit_transform(crml_cleaned[['LotSizeAcres_Log']])\n",
    "\n",
    "print(crml_cleaned[['LotSizeAcres', 'LotSizeAcres_Log', 'LotSizeAcres_Log_Scaled']])"
   ]
  },
  {
   "cell_type": "code",
   "execution_count": 22,
   "metadata": {},
   "outputs": [],
   "source": [
    "#Removing errors\n",
    "crml_cleaned['BathroomsTotalInteger'].unique()\n",
    "crml_cleaned = crml_cleaned[crml_cleaned['BathroomsTotalInteger'] <= 20]"
   ]
  },
  {
   "cell_type": "code",
   "execution_count": 23,
   "metadata": {},
   "outputs": [
    {
     "name": "stdout",
     "output_type": "stream",
     "text": [
      "        BathroomsTotalInteger  Bathrooms_Scaled\n",
      "3                           4          1.381623\n",
      "6                           3          0.425712\n",
      "7                           2         -0.530199\n",
      "14                          2         -0.530199\n",
      "21                          4          1.381623\n",
      "...                       ...               ...\n",
      "585823                      3          0.425712\n",
      "585824                      2         -0.530199\n",
      "585825                      1         -1.486110\n",
      "585827                      3          0.425712\n",
      "585830                      2         -0.530199\n",
      "\n",
      "[243500 rows x 2 columns]\n"
     ]
    }
   ],
   "source": [
    "#Applying standard scaling\n",
    "from sklearn.preprocessing import StandardScaler\n",
    "\n",
    "scaler = StandardScaler()\n",
    "\n",
    "crml_cleaned['Bathrooms_Scaled'] = scaler.fit_transform(crml_cleaned[['BathroomsTotalInteger']])\n",
    "\n",
    "print(crml_cleaned[['BathroomsTotalInteger', 'Bathrooms_Scaled']])"
   ]
  },
  {
   "cell_type": "code",
   "execution_count": 24,
   "metadata": {},
   "outputs": [],
   "source": [
    "crml_cleaned['BedroomsTotal'].unique()\n",
    "crml_cleaned = crml_cleaned[crml_cleaned['BedroomsTotal'] <= 15]"
   ]
  },
  {
   "cell_type": "code",
   "execution_count": 25,
   "metadata": {},
   "outputs": [
    {
     "name": "stdout",
     "output_type": "stream",
     "text": [
      "        BedroomsTotal  Bedrooms_Scaled\n",
      "3                   4         0.575701\n",
      "6                   3        -0.493060\n",
      "7                   3        -0.493060\n",
      "14                  3        -0.493060\n",
      "21                  6         2.713224\n",
      "...               ...              ...\n",
      "585823              5         1.644463\n",
      "585824              2        -1.561822\n",
      "585825              2        -1.561822\n",
      "585827              5         1.644463\n",
      "585830              3        -0.493060\n",
      "\n",
      "[243496 rows x 2 columns]\n"
     ]
    }
   ],
   "source": [
    "scaler = StandardScaler()\n",
    "\n",
    "crml_cleaned['Bedrooms_Scaled'] = scaler.fit_transform(crml_cleaned[['BedroomsTotal']])\n",
    "\n",
    "print(crml_cleaned[['BedroomsTotal', 'Bedrooms_Scaled']])"
   ]
  },
  {
   "cell_type": "code",
   "execution_count": 26,
   "metadata": {},
   "outputs": [],
   "source": [
    "crml_cleaned['GarageSpaces'].unique()\n",
    "crml_cleaned = crml_cleaned[crml_cleaned['GarageSpaces'] <= 20]"
   ]
  },
  {
   "cell_type": "code",
   "execution_count": 27,
   "metadata": {},
   "outputs": [
    {
     "name": "stdout",
     "output_type": "stream",
     "text": [
      "        GarageSpaces  GarageSpaces_Scaled\n",
      "3                  2             0.007120\n",
      "6                  1            -1.095572\n",
      "7                  2             0.007120\n",
      "14                 2             0.007120\n",
      "21                 3             1.109813\n",
      "...              ...                  ...\n",
      "585823             2             0.007120\n",
      "585824             5             3.315197\n",
      "585825             2             0.007120\n",
      "585827             4             2.212505\n",
      "585830             1            -1.095572\n",
      "\n",
      "[243451 rows x 2 columns]\n"
     ]
    }
   ],
   "source": [
    "scaler = StandardScaler()\n",
    "\n",
    "crml_cleaned['GarageSpaces_Scaled'] = scaler.fit_transform(crml_cleaned[['GarageSpaces']])\n",
    "\n",
    "print(crml_cleaned[['GarageSpaces', 'GarageSpaces_Scaled']])"
   ]
  },
  {
   "cell_type": "code",
   "execution_count": 28,
   "metadata": {},
   "outputs": [],
   "source": [
    "crml_cleaned['BuildingAge'].unique()\n",
    "crml_cleaned = crml_cleaned[crml_cleaned['BuildingAge'] >= 0]"
   ]
  },
  {
   "cell_type": "code",
   "execution_count": 29,
   "metadata": {},
   "outputs": [
    {
     "name": "stdout",
     "output_type": "stream",
     "text": [
      "        BuildingAge  BuildingAge_Scaled\n",
      "3                 6           -1.501166\n",
      "6                15           -1.161092\n",
      "7                62            0.614851\n",
      "14                1           -1.690096\n",
      "21               20           -0.972162\n",
      "...             ...                 ...\n",
      "585823           19           -1.009948\n",
      "585824           65            0.728209\n",
      "585825           58            0.463707\n",
      "585827           19           -1.009948\n",
      "585830           82            1.370572\n",
      "\n",
      "[243433 rows x 2 columns]\n"
     ]
    }
   ],
   "source": [
    "scaler = StandardScaler()\n",
    "\n",
    "crml_cleaned['BuildingAge_Scaled'] = scaler.fit_transform(crml_cleaned[['BuildingAge']])\n",
    "\n",
    "print(crml_cleaned[['BuildingAge', 'BuildingAge_Scaled']])"
   ]
  },
  {
   "cell_type": "code",
   "execution_count": 30,
   "metadata": {},
   "outputs": [
    {
     "name": "stdout",
     "output_type": "stream",
     "text": [
      "        ClosePrice  ClosePrice_Log  ClosePrice_Log_Scaled\n",
      "3        2499999.0       14.731801               0.742568\n",
      "6         640000.0       13.369225               0.619770\n",
      "7         438000.0       12.989976               0.585591\n",
      "14        399990.0       12.899197               0.577410\n",
      "21       1839270.0       14.424880               0.714908\n",
      "...            ...             ...                    ...\n",
      "585823    925000.0       13.737550               0.652964\n",
      "585824    525000.0       13.171155               0.601919\n",
      "585825    313000.0       12.653962               0.555309\n",
      "585827    835000.0       13.635188               0.643739\n",
      "585830    590000.0       13.287880               0.612439\n",
      "\n",
      "[243433 rows x 3 columns]\n"
     ]
    }
   ],
   "source": [
    "#Finally, min-max scale close price\n",
    "scaler = MinMaxScaler()\n",
    "crml_cleaned['ClosePrice_Log_Scaled'] = scaler.fit_transform(crml_cleaned[['ClosePrice_Log']])\n",
    "\n",
    "print(crml_cleaned[['ClosePrice', 'ClosePrice_Log', 'ClosePrice_Log_Scaled']])"
   ]
  },
  {
   "cell_type": "code",
   "execution_count": 31,
   "metadata": {},
   "outputs": [
    {
     "data": {
      "text/plain": [
       "Index(['PoolPrivateYN', 'CloseDate', 'ClosePrice', 'LivingArea',\n",
       "       'LotSizeAcres', 'BathroomsTotalInteger', 'City', 'BedroomsTotal',\n",
       "       'FireplaceYN', 'GarageSpaces', 'BuildingAge', 'ClosePrice_Log',\n",
       "       'Levels_MultiSplit', 'Levels_One', 'Levels_ThreeOrMore', 'Levels_Two',\n",
       "       'LivingArea_Log', 'LivingArea_Log_Scaled', 'LotSizeAcres_Log',\n",
       "       'LotSizeAcres_Log_Scaled', 'Bathrooms_Scaled', 'Bedrooms_Scaled',\n",
       "       'GarageSpaces_Scaled', 'BuildingAge_Scaled', 'ClosePrice_Log_Scaled'],\n",
       "      dtype='object')"
      ]
     },
     "execution_count": 31,
     "metadata": {},
     "output_type": "execute_result"
    }
   ],
   "source": [
    "crml_cleaned.columns"
   ]
  },
  {
   "cell_type": "code",
   "execution_count": 33,
   "metadata": {},
   "outputs": [
    {
     "data": {
      "image/png": "[encoded data removed]",
      "text/plain": [
       "<Figure size 1000x800 with 2 Axes>"
      ]
     },
     "metadata": {},
     "output_type": "display_data"
    }
   ],
   "source": [
    "numeric_columns = [\n",
    "    'ClosePrice', 'LivingArea_Log_Scaled', 'LotSizeAcres_Log_Scaled',\n",
    "    'Bathrooms_Scaled', 'Bedrooms_Scaled', 'GarageSpaces_Scaled', 'BuildingAge_Scaled', 'ClosePrice_Log_Scaled'\n",
    "]\n",
    "\n",
    "correlation_matrix = crml_cleaned[numeric_columns].corr()\n",
    "\n",
    "plt.figure(figsize=(10, 8))\n",
    "sns.heatmap(correlation_matrix, annot=True, fmt=\".2f\", cmap='coolwarm', square=True)\n",
    "plt.title('Correlation Matrix of Numeric Variables')\n",
    "plt.show()"
   ]
  },
  {
   "cell_type": "code",
   "execution_count": 34,
   "metadata": {},
   "outputs": [],
   "source": [
    "#Sort by close date before creating sequences\n",
    "crml_cleaned = crml_cleaned.sort_values('CloseDate')"
   ]
  },
  {
   "cell_type": "code",
   "execution_count": 35,
   "metadata": {},
   "outputs": [],
   "source": [
    "#City as embedding layer\n",
    "crml_cleaned['City_Code'] = crml_cleaned['City'].astype('category').cat.codes"
   ]
  },
  {
   "cell_type": "code",
   "execution_count": 37,
   "metadata": {},
   "outputs": [],
   "source": [
    "features = [\n",
    "    'PoolPrivateYN', 'FireplaceYN', 'City_Code',  #Binary and embedded\n",
    "    'Levels_MultiSplit', 'Levels_One', 'Levels_ThreeOrMore', 'Levels_Two',  #One-hot encoded\n",
    "    'LivingArea_Log_Scaled', 'LotSizeAcres_Log_Scaled',  #Log-scaled numerical\n",
    "    'Bathrooms_Scaled', 'Bedrooms_Scaled', 'GarageSpaces_Scaled', 'BuildingAge_Scaled'  #Standard-scaled numerical\n",
    "]\n",
    "\n",
    "target = 'ClosePrice_Log_Scaled'"
   ]
  },
  {
   "cell_type": "code",
   "execution_count": 48,
   "metadata": {},
   "outputs": [
    {
     "name": "stdout",
     "output_type": "stream",
     "text": [
      "Shape of X: (243403, 30, 13), Shape of y: (243403,)\n"
     ]
    }
   ],
   "source": [
    "#Function for creating sequences\n",
    "def create_sequences(data, target, sequence_length):\n",
    "    X, y = [], []\n",
    "    for i in range(len(data) - sequence_length):\n",
    "        X.append(data[i:i + sequence_length])\n",
    "        y.append(target[i + sequence_length])\n",
    "    return np.array(X), np.array(y)\n",
    "\n",
    "#Extract features and target as numpy arrays\n",
    "data = crml_cleaned[features].values\n",
    "target_data = crml_cleaned[target].values\n",
    "\n",
    "sequence_length = 30\n",
    "\n",
    "X, y = create_sequences(data, target_data, sequence_length)\n",
    "\n",
    "\n",
    "\n",
    "city_input_data = X[:, :, 2]\n",
    "numerical_input_data = np.delete(X, 2, axis=2)\n",
    "\n",
    "print(f\"Shape of X: {X.shape}, Shape of y: {y.shape}\")"
   ]
  },
  {
   "cell_type": "code",
   "execution_count": 49,
   "metadata": {},
   "outputs": [],
   "source": [
    "#Split into train and test sets\n",
    "from sklearn.model_selection import train_test_split\n",
    "\n",
    "X_train, X_test, y_train, y_test = train_test_split(X, y, test_size=0.2, shuffle=False)"
   ]
  },
  {
   "cell_type": "code",
   "execution_count": 51,
   "metadata": {},
   "outputs": [
    {
     "data": {
      "text/html": [
       "<pre style=\"white-space:pre;overflow-x:auto;line-height:normal;font-family:Menlo,'DejaVu Sans Mono',consolas,'Courier New',monospace\"><span style=\"font-weight: bold\">Model: \"functional_2\"</span>\n",
       "</pre>\n"
      ],
      "text/plain": [
       "\u001b[1mModel: \"functional_2\"\u001b[0m\n"
      ]
     },
     "metadata": {},
     "output_type": "display_data"
    },
    {
     "data": {
      "text/html": [
       "<pre style=\"white-space:pre;overflow-x:auto;line-height:normal;font-family:Menlo,'DejaVu Sans Mono',consolas,'Courier New',monospace\">┏━━━━━━━━━━━━━━━━━━━━━┳━━━━━━━━━━━━━━━━━━━┳━━━━━━━━━━━━┳━━━━━━━━━━━━━━━━━━━┓\n",
       "┃<span style=\"font-weight: bold\"> Layer (type)        </span>┃<span style=\"font-weight: bold\"> Output Shape      </span>┃<span style=\"font-weight: bold\">    Param # </span>┃<span style=\"font-weight: bold\"> Connected to      </span>┃\n",
       "┡━━━━━━━━━━━━━━━━━━━━━╇━━━━━━━━━━━━━━━━━━━╇━━━━━━━━━━━━╇━━━━━━━━━━━━━━━━━━━┩\n",
       "│ City_Input          │ (<span style=\"color: #00d7ff; text-decoration-color: #00d7ff\">None</span>, <span style=\"color: #00af00; text-decoration-color: #00af00\">30</span>)        │          <span style=\"color: #00af00; text-decoration-color: #00af00\">0</span> │ -                 │\n",
       "│ (<span style=\"color: #0087ff; text-decoration-color: #0087ff\">InputLayer</span>)        │                   │            │                   │\n",
       "├─────────────────────┼───────────────────┼────────────┼───────────────────┤\n",
       "│ embedding_2         │ (<span style=\"color: #00d7ff; text-decoration-color: #00d7ff\">None</span>, <span style=\"color: #00af00; text-decoration-color: #00af00\">30</span>, <span style=\"color: #00af00; text-decoration-color: #00af00\">32</span>)    │     <span style=\"color: #00af00; text-decoration-color: #00af00\">33,760</span> │ City_Input[<span style=\"color: #00af00; text-decoration-color: #00af00\">0</span>][<span style=\"color: #00af00; text-decoration-color: #00af00\">0</span>]  │\n",
       "│ (<span style=\"color: #0087ff; text-decoration-color: #0087ff\">Embedding</span>)         │                   │            │                   │\n",
       "├─────────────────────┼───────────────────┼────────────┼───────────────────┤\n",
       "│ Numerical_Input     │ (<span style=\"color: #00d7ff; text-decoration-color: #00d7ff\">None</span>, <span style=\"color: #00af00; text-decoration-color: #00af00\">30</span>, <span style=\"color: #00af00; text-decoration-color: #00af00\">12</span>)    │          <span style=\"color: #00af00; text-decoration-color: #00af00\">0</span> │ -                 │\n",
       "│ (<span style=\"color: #0087ff; text-decoration-color: #0087ff\">InputLayer</span>)        │                   │            │                   │\n",
       "├─────────────────────┼───────────────────┼────────────┼───────────────────┤\n",
       "│ concatenate_2       │ (<span style=\"color: #00d7ff; text-decoration-color: #00d7ff\">None</span>, <span style=\"color: #00af00; text-decoration-color: #00af00\">30</span>, <span style=\"color: #00af00; text-decoration-color: #00af00\">44</span>)    │          <span style=\"color: #00af00; text-decoration-color: #00af00\">0</span> │ embedding_2[<span style=\"color: #00af00; text-decoration-color: #00af00\">0</span>][<span style=\"color: #00af00; text-decoration-color: #00af00\">0</span>… │\n",
       "│ (<span style=\"color: #0087ff; text-decoration-color: #0087ff\">Concatenate</span>)       │                   │            │ Numerical_Input[<span style=\"color: #00af00; text-decoration-color: #00af00\">…</span> │\n",
       "├─────────────────────┼───────────────────┼────────────┼───────────────────┤\n",
       "│ lstm_4 (<span style=\"color: #0087ff; text-decoration-color: #0087ff\">LSTM</span>)       │ (<span style=\"color: #00d7ff; text-decoration-color: #00d7ff\">None</span>, <span style=\"color: #00af00; text-decoration-color: #00af00\">30</span>, <span style=\"color: #00af00; text-decoration-color: #00af00\">64</span>)    │     <span style=\"color: #00af00; text-decoration-color: #00af00\">27,904</span> │ concatenate_2[<span style=\"color: #00af00; text-decoration-color: #00af00\">0</span>]… │\n",
       "├─────────────────────┼───────────────────┼────────────┼───────────────────┤\n",
       "│ lstm_5 (<span style=\"color: #0087ff; text-decoration-color: #0087ff\">LSTM</span>)       │ (<span style=\"color: #00d7ff; text-decoration-color: #00d7ff\">None</span>, <span style=\"color: #00af00; text-decoration-color: #00af00\">32</span>)        │     <span style=\"color: #00af00; text-decoration-color: #00af00\">12,416</span> │ lstm_4[<span style=\"color: #00af00; text-decoration-color: #00af00\">0</span>][<span style=\"color: #00af00; text-decoration-color: #00af00\">0</span>]      │\n",
       "├─────────────────────┼───────────────────┼────────────┼───────────────────┤\n",
       "│ Output (<span style=\"color: #0087ff; text-decoration-color: #0087ff\">Dense</span>)      │ (<span style=\"color: #00d7ff; text-decoration-color: #00d7ff\">None</span>, <span style=\"color: #00af00; text-decoration-color: #00af00\">1</span>)         │         <span style=\"color: #00af00; text-decoration-color: #00af00\">33</span> │ lstm_5[<span style=\"color: #00af00; text-decoration-color: #00af00\">0</span>][<span style=\"color: #00af00; text-decoration-color: #00af00\">0</span>]      │\n",
       "└─────────────────────┴───────────────────┴────────────┴───────────────────┘\n",
       "</pre>\n"
      ],
      "text/plain": [
       "┏━━━━━━━━━━━━━━━━━━━━━┳━━━━━━━━━━━━━━━━━━━┳━━━━━━━━━━━━┳━━━━━━━━━━━━━━━━━━━┓\n",
       "┃\u001b[1m \u001b[0m\u001b[1mLayer (type)       \u001b[0m\u001b[1m \u001b[0m┃\u001b[1m \u001b[0m\u001b[1mOutput Shape     \u001b[0m\u001b[1m \u001b[0m┃\u001b[1m \u001b[0m\u001b[1m   Param #\u001b[0m\u001b[1m \u001b[0m┃\u001b[1m \u001b[0m\u001b[1mConnected to     \u001b[0m\u001b[1m \u001b[0m┃\n",
       "┡━━━━━━━━━━━━━━━━━━━━━╇━━━━━━━━━━━━━━━━━━━╇━━━━━━━━━━━━╇━━━━━━━━━━━━━━━━━━━┩\n",
       "│ City_Input          │ (\u001b[38;5;45mNone\u001b[0m, \u001b[38;5;34m30\u001b[0m)        │          \u001b[38;5;34m0\u001b[0m │ -                 │\n",
       "│ (\u001b[38;5;33mInputLayer\u001b[0m)        │                   │            │                   │\n",
       "├─────────────────────┼───────────────────┼────────────┼───────────────────┤\n",
       "│ embedding_2         │ (\u001b[38;5;45mNone\u001b[0m, \u001b[38;5;34m30\u001b[0m, \u001b[38;5;34m32\u001b[0m)    │     \u001b[38;5;34m33,760\u001b[0m │ City_Input[\u001b[38;5;34m0\u001b[0m][\u001b[38;5;34m0\u001b[0m]  │\n",
       "│ (\u001b[38;5;33mEmbedding\u001b[0m)         │                   │            │                   │\n",
       "├─────────────────────┼───────────────────┼────────────┼───────────────────┤\n",
       "│ Numerical_Input     │ (\u001b[38;5;45mNone\u001b[0m, \u001b[38;5;34m30\u001b[0m, \u001b[38;5;34m12\u001b[0m)    │          \u001b[38;5;34m0\u001b[0m │ -                 │\n",
       "│ (\u001b[38;5;33mInputLayer\u001b[0m)        │                   │            │                   │\n",
       "├─────────────────────┼───────────────────┼────────────┼───────────────────┤\n",
       "│ concatenate_2       │ (\u001b[38;5;45mNone\u001b[0m, \u001b[38;5;34m30\u001b[0m, \u001b[38;5;34m44\u001b[0m)    │          \u001b[38;5;34m0\u001b[0m │ embedding_2[\u001b[38;5;34m0\u001b[0m][\u001b[38;5;34m0\u001b[0m… │\n",
       "│ (\u001b[38;5;33mConcatenate\u001b[0m)       │                   │            │ Numerical_Input[\u001b[38;5;34m…\u001b[0m │\n",
       "├─────────────────────┼───────────────────┼────────────┼───────────────────┤\n",
       "│ lstm_4 (\u001b[38;5;33mLSTM\u001b[0m)       │ (\u001b[38;5;45mNone\u001b[0m, \u001b[38;5;34m30\u001b[0m, \u001b[38;5;34m64\u001b[0m)    │     \u001b[38;5;34m27,904\u001b[0m │ concatenate_2[\u001b[38;5;34m0\u001b[0m]… │\n",
       "├─────────────────────┼───────────────────┼────────────┼───────────────────┤\n",
       "│ lstm_5 (\u001b[38;5;33mLSTM\u001b[0m)       │ (\u001b[38;5;45mNone\u001b[0m, \u001b[38;5;34m32\u001b[0m)        │     \u001b[38;5;34m12,416\u001b[0m │ lstm_4[\u001b[38;5;34m0\u001b[0m][\u001b[38;5;34m0\u001b[0m]      │\n",
       "├─────────────────────┼───────────────────┼────────────┼───────────────────┤\n",
       "│ Output (\u001b[38;5;33mDense\u001b[0m)      │ (\u001b[38;5;45mNone\u001b[0m, \u001b[38;5;34m1\u001b[0m)         │         \u001b[38;5;34m33\u001b[0m │ lstm_5[\u001b[38;5;34m0\u001b[0m][\u001b[38;5;34m0\u001b[0m]      │\n",
       "└─────────────────────┴───────────────────┴────────────┴───────────────────┘\n"
      ]
     },
     "metadata": {},
     "output_type": "display_data"
    },
    {
     "data": {
      "text/html": [
       "<pre style=\"white-space:pre;overflow-x:auto;line-height:normal;font-family:Menlo,'DejaVu Sans Mono',consolas,'Courier New',monospace\"><span style=\"font-weight: bold\"> Total params: </span><span style=\"color: #00af00; text-decoration-color: #00af00\">74,113</span> (289.50 KB)\n",
       "</pre>\n"
      ],
      "text/plain": [
       "\u001b[1m Total params: \u001b[0m\u001b[38;5;34m74,113\u001b[0m (289.50 KB)\n"
      ]
     },
     "metadata": {},
     "output_type": "display_data"
    },
    {
     "data": {
      "text/html": [
       "<pre style=\"white-space:pre;overflow-x:auto;line-height:normal;font-family:Menlo,'DejaVu Sans Mono',consolas,'Courier New',monospace\"><span style=\"font-weight: bold\"> Trainable params: </span><span style=\"color: #00af00; text-decoration-color: #00af00\">74,113</span> (289.50 KB)\n",
       "</pre>\n"
      ],
      "text/plain": [
       "\u001b[1m Trainable params: \u001b[0m\u001b[38;5;34m74,113\u001b[0m (289.50 KB)\n"
      ]
     },
     "metadata": {},
     "output_type": "display_data"
    },
    {
     "data": {
      "text/html": [
       "<pre style=\"white-space:pre;overflow-x:auto;line-height:normal;font-family:Menlo,'DejaVu Sans Mono',consolas,'Courier New',monospace\"><span style=\"font-weight: bold\"> Non-trainable params: </span><span style=\"color: #00af00; text-decoration-color: #00af00\">0</span> (0.00 B)\n",
       "</pre>\n"
      ],
      "text/plain": [
       "\u001b[1m Non-trainable params: \u001b[0m\u001b[38;5;34m0\u001b[0m (0.00 B)\n"
      ]
     },
     "metadata": {},
     "output_type": "display_data"
    }
   ],
   "source": [
    "from tensorflow.keras.models import Model\n",
    "from tensorflow.keras.layers import Input, LSTM, Dense, Embedding, Concatenate\n",
    "\n",
    "# Input for the categorical City feature (embedding)\n",
    "city_input = Input(shape=(sequence_length,), name='City_Input')\n",
    "city_embedding = Embedding(input_dim=1055, output_dim=32)(city_input)\n",
    "\n",
    "# Input for numerical and binary features\n",
    "num_input = Input(shape=(sequence_length, len(features) - 1), name='Numerical_Input')\n",
    "\n",
    "# Combine all features\n",
    "x = Concatenate(axis=-1)([city_embedding, num_input])\n",
    "\n",
    "# Add LSTM layers\n",
    "x = LSTM(64, return_sequences=True)(x)\n",
    "x = LSTM(32)(x)\n",
    "\n",
    "# Output layer for regression\n",
    "output = Dense(1, activation='linear', name='Output')(x)\n",
    "\n",
    "# Build and compile the model\n",
    "model = Model(inputs=[city_input, num_input], outputs=output)\n",
    "model.compile(optimizer='adam', loss='mse', metrics=['mae'])\n",
    "\n",
    "# Print the model summary\n",
    "model.summary()"
   ]
  },
  {
   "cell_type": "code",
   "execution_count": 52,
   "metadata": {},
   "outputs": [
    {
     "name": "stdout",
     "output_type": "stream",
     "text": [
      "Epoch 1/50\n",
      "\u001b[1m6086/6086\u001b[0m \u001b[32m━━━━━━━━━━━━━━━━━━━━\u001b[0m\u001b[37m\u001b[0m \u001b[1m49s\u001b[0m 8ms/step - loss: 0.0050 - mae: 0.0471 - val_loss: 0.0032 - val_mae: 0.0424\n",
      "Epoch 2/50\n",
      "\u001b[1m6086/6086\u001b[0m \u001b[32m━━━━━━━━━━━━━━━━━━━━\u001b[0m\u001b[37m\u001b[0m \u001b[1m51s\u001b[0m 8ms/step - loss: 0.0030 - mae: 0.0419 - val_loss: 0.0031 - val_mae: 0.0420\n",
      "Epoch 3/50\n",
      "\u001b[1m6086/6086\u001b[0m \u001b[32m━━━━━━━━━━━━━━━━━━━━\u001b[0m\u001b[37m\u001b[0m \u001b[1m50s\u001b[0m 8ms/step - loss: 0.0030 - mae: 0.0416 - val_loss: 0.0031 - val_mae: 0.0426\n",
      "Epoch 4/50\n",
      "\u001b[1m6086/6086\u001b[0m \u001b[32m━━━━━━━━━━━━━━━━━━━━\u001b[0m\u001b[37m\u001b[0m \u001b[1m51s\u001b[0m 8ms/step - loss: 0.0030 - mae: 0.0415 - val_loss: 0.0032 - val_mae: 0.0424\n",
      "Epoch 5/50\n",
      "\u001b[1m6086/6086\u001b[0m \u001b[32m━━━━━━━━━━━━━━━━━━━━\u001b[0m\u001b[37m\u001b[0m \u001b[1m50s\u001b[0m 8ms/step - loss: 0.0030 - mae: 0.0415 - val_loss: 0.0031 - val_mae: 0.0420\n",
      "Epoch 6/50\n",
      "\u001b[1m6086/6086\u001b[0m \u001b[32m━━━━━━━━━━━━━━━━━━━━\u001b[0m\u001b[37m\u001b[0m \u001b[1m50s\u001b[0m 8ms/step - loss: 0.0030 - mae: 0.0415 - val_loss: 0.0031 - val_mae: 0.0423\n",
      "Epoch 7/50\n",
      "\u001b[1m6086/6086\u001b[0m \u001b[32m━━━━━━━━━━━━━━━━━━━━\u001b[0m\u001b[37m\u001b[0m \u001b[1m50s\u001b[0m 8ms/step - loss: 0.0030 - mae: 0.0413 - val_loss: 0.0031 - val_mae: 0.0424\n",
      "Epoch 8/50\n",
      "\u001b[1m6086/6086\u001b[0m \u001b[32m━━━━━━━━━━━━━━━━━━━━\u001b[0m\u001b[37m\u001b[0m \u001b[1m49s\u001b[0m 8ms/step - loss: 0.0029 - mae: 0.0412 - val_loss: 0.0031 - val_mae: 0.0423\n",
      "Epoch 9/50\n",
      "\u001b[1m6086/6086\u001b[0m \u001b[32m━━━━━━━━━━━━━━━━━━━━\u001b[0m\u001b[37m\u001b[0m \u001b[1m49s\u001b[0m 8ms/step - loss: 0.0029 - mae: 0.0411 - val_loss: 0.0031 - val_mae: 0.0423\n",
      "Epoch 10/50\n",
      "\u001b[1m6086/6086\u001b[0m \u001b[32m━━━━━━━━━━━━━━━━━━━━\u001b[0m\u001b[37m\u001b[0m \u001b[1m49s\u001b[0m 8ms/step - loss: 0.0029 - mae: 0.0410 - val_loss: 0.0031 - val_mae: 0.0429\n",
      "Epoch 11/50\n",
      "\u001b[1m6086/6086\u001b[0m \u001b[32m━━━━━━━━━━━━━━━━━━━━\u001b[0m\u001b[37m\u001b[0m \u001b[1m49s\u001b[0m 8ms/step - loss: 0.0029 - mae: 0.0410 - val_loss: 0.0031 - val_mae: 0.0427\n",
      "Epoch 12/50\n",
      "\u001b[1m6086/6086\u001b[0m \u001b[32m━━━━━━━━━━━━━━━━━━━━\u001b[0m\u001b[37m\u001b[0m \u001b[1m49s\u001b[0m 8ms/step - loss: 0.0029 - mae: 0.0407 - val_loss: 0.0032 - val_mae: 0.0430\n",
      "Epoch 13/50\n",
      "\u001b[1m6086/6086\u001b[0m \u001b[32m━━━━━━━━━━━━━━━━━━━━\u001b[0m\u001b[37m\u001b[0m \u001b[1m50s\u001b[0m 8ms/step - loss: 0.0028 - mae: 0.0405 - val_loss: 0.0032 - val_mae: 0.0431\n",
      "Epoch 14/50\n",
      "\u001b[1m6086/6086\u001b[0m \u001b[32m━━━━━━━━━━━━━━━━━━━━\u001b[0m\u001b[37m\u001b[0m \u001b[1m49s\u001b[0m 8ms/step - loss: 0.0028 - mae: 0.0404 - val_loss: 0.0032 - val_mae: 0.0437\n",
      "Epoch 15/50\n",
      "\u001b[1m6086/6086\u001b[0m \u001b[32m━━━━━━━━━━━━━━━━━━━━\u001b[0m\u001b[37m\u001b[0m \u001b[1m49s\u001b[0m 8ms/step - loss: 0.0028 - mae: 0.0401 - val_loss: 0.0033 - val_mae: 0.0435\n",
      "Epoch 16/50\n",
      "\u001b[1m6086/6086\u001b[0m \u001b[32m━━━━━━━━━━━━━━━━━━━━\u001b[0m\u001b[37m\u001b[0m \u001b[1m49s\u001b[0m 8ms/step - loss: 0.0028 - mae: 0.0401 - val_loss: 0.0034 - val_mae: 0.0441\n",
      "Epoch 17/50\n",
      "\u001b[1m6086/6086\u001b[0m \u001b[32m━━━━━━━━━━━━━━━━━━━━\u001b[0m\u001b[37m\u001b[0m \u001b[1m49s\u001b[0m 8ms/step - loss: 0.0027 - mae: 0.0395 - val_loss: 0.0034 - val_mae: 0.0444\n",
      "Epoch 18/50\n",
      "\u001b[1m6086/6086\u001b[0m \u001b[32m━━━━━━━━━━━━━━━━━━━━\u001b[0m\u001b[37m\u001b[0m \u001b[1m51s\u001b[0m 8ms/step - loss: 0.0027 - mae: 0.0393 - val_loss: 0.0035 - val_mae: 0.0448\n",
      "Epoch 19/50\n",
      "\u001b[1m6086/6086\u001b[0m \u001b[32m━━━━━━━━━━━━━━━━━━━━\u001b[0m\u001b[37m\u001b[0m \u001b[1m56s\u001b[0m 9ms/step - loss: 0.0026 - mae: 0.0391 - val_loss: 0.0035 - val_mae: 0.0448\n",
      "Epoch 20/50\n",
      "\u001b[1m6086/6086\u001b[0m \u001b[32m━━━━━━━━━━━━━━━━━━━━\u001b[0m\u001b[37m\u001b[0m \u001b[1m57s\u001b[0m 9ms/step - loss: 0.0026 - mae: 0.0388 - val_loss: 0.0035 - val_mae: 0.0450\n",
      "Epoch 21/50\n",
      "\u001b[1m6086/6086\u001b[0m \u001b[32m━━━━━━━━━━━━━━━━━━━━\u001b[0m\u001b[37m\u001b[0m \u001b[1m51s\u001b[0m 8ms/step - loss: 0.0025 - mae: 0.0383 - val_loss: 0.0035 - val_mae: 0.0453\n",
      "Epoch 22/50\n",
      "\u001b[1m6086/6086\u001b[0m \u001b[32m━━━━━━━━━━━━━━━━━━━━\u001b[0m\u001b[37m\u001b[0m \u001b[1m51s\u001b[0m 8ms/step - loss: 0.0025 - mae: 0.0381 - val_loss: 0.0036 - val_mae: 0.0458\n",
      "Epoch 23/50\n",
      "\u001b[1m6086/6086\u001b[0m \u001b[32m━━━━━━━━━━━━━━━━━━━━\u001b[0m\u001b[37m\u001b[0m \u001b[1m51s\u001b[0m 8ms/step - loss: 0.0025 - mae: 0.0379 - val_loss: 0.0036 - val_mae: 0.0461\n",
      "Epoch 24/50\n",
      "\u001b[1m6086/6086\u001b[0m \u001b[32m━━━━━━━━━━━━━━━━━━━━\u001b[0m\u001b[37m\u001b[0m \u001b[1m49s\u001b[0m 8ms/step - loss: 0.0024 - mae: 0.0376 - val_loss: 0.0038 - val_mae: 0.0466\n",
      "Epoch 25/50\n",
      "\u001b[1m6086/6086\u001b[0m \u001b[32m━━━━━━━━━━━━━━━━━━━━\u001b[0m\u001b[37m\u001b[0m \u001b[1m51s\u001b[0m 8ms/step - loss: 0.0024 - mae: 0.0372 - val_loss: 0.0038 - val_mae: 0.0468\n",
      "Epoch 26/50\n",
      "\u001b[1m6086/6086\u001b[0m \u001b[32m━━━━━━━━━━━━━━━━━━━━\u001b[0m\u001b[37m\u001b[0m \u001b[1m51s\u001b[0m 8ms/step - loss: 0.0023 - mae: 0.0369 - val_loss: 0.0038 - val_mae: 0.0475\n",
      "Epoch 27/50\n",
      "\u001b[1m6086/6086\u001b[0m \u001b[32m━━━━━━━━━━━━━━━━━━━━\u001b[0m\u001b[37m\u001b[0m \u001b[1m51s\u001b[0m 8ms/step - loss: 0.0023 - mae: 0.0365 - val_loss: 0.0038 - val_mae: 0.0470\n",
      "Epoch 28/50\n",
      "\u001b[1m6086/6086\u001b[0m \u001b[32m━━━━━━━━━━━━━━━━━━━━\u001b[0m\u001b[37m\u001b[0m \u001b[1m51s\u001b[0m 8ms/step - loss: 0.0022 - mae: 0.0362 - val_loss: 0.0037 - val_mae: 0.0466\n",
      "Epoch 29/50\n",
      "\u001b[1m6086/6086\u001b[0m \u001b[32m━━━━━━━━━━━━━━━━━━━━\u001b[0m\u001b[37m\u001b[0m \u001b[1m51s\u001b[0m 8ms/step - loss: 0.0022 - mae: 0.0360 - val_loss: 0.0039 - val_mae: 0.0478\n",
      "Epoch 30/50\n",
      "\u001b[1m6086/6086\u001b[0m \u001b[32m━━━━━━━━━━━━━━━━━━━━\u001b[0m\u001b[37m\u001b[0m \u001b[1m51s\u001b[0m 8ms/step - loss: 0.0022 - mae: 0.0359 - val_loss: 0.0039 - val_mae: 0.0478\n",
      "Epoch 31/50\n",
      "\u001b[1m6086/6086\u001b[0m \u001b[32m━━━━━━━━━━━━━━━━━━━━\u001b[0m\u001b[37m\u001b[0m \u001b[1m51s\u001b[0m 8ms/step - loss: 0.0022 - mae: 0.0355 - val_loss: 0.0039 - val_mae: 0.0476\n",
      "Epoch 32/50\n",
      "\u001b[1m6086/6086\u001b[0m \u001b[32m━━━━━━━━━━━━━━━━━━━━\u001b[0m\u001b[37m\u001b[0m \u001b[1m51s\u001b[0m 8ms/step - loss: 0.0021 - mae: 0.0354 - val_loss: 0.0041 - val_mae: 0.0488\n",
      "Epoch 33/50\n",
      "\u001b[1m6086/6086\u001b[0m \u001b[32m━━━━━━━━━━━━━━━━━━━━\u001b[0m\u001b[37m\u001b[0m \u001b[1m51s\u001b[0m 8ms/step - loss: 0.0021 - mae: 0.0351 - val_loss: 0.0040 - val_mae: 0.0481\n",
      "Epoch 34/50\n",
      "\u001b[1m6086/6086\u001b[0m \u001b[32m━━━━━━━━━━━━━━━━━━━━\u001b[0m\u001b[37m\u001b[0m \u001b[1m51s\u001b[0m 8ms/step - loss: 0.0021 - mae: 0.0349 - val_loss: 0.0041 - val_mae: 0.0491\n",
      "Epoch 35/50\n",
      "\u001b[1m6086/6086\u001b[0m \u001b[32m━━━━━━━━━━━━━━━━━━━━\u001b[0m\u001b[37m\u001b[0m \u001b[1m51s\u001b[0m 8ms/step - loss: 0.0020 - mae: 0.0346 - val_loss: 0.0041 - val_mae: 0.0487\n",
      "Epoch 36/50\n",
      "\u001b[1m6086/6086\u001b[0m \u001b[32m━━━━━━━━━━━━━━━━━━━━\u001b[0m\u001b[37m\u001b[0m \u001b[1m51s\u001b[0m 8ms/step - loss: 0.0020 - mae: 0.0345 - val_loss: 0.0040 - val_mae: 0.0486\n",
      "Epoch 37/50\n",
      "\u001b[1m6086/6086\u001b[0m \u001b[32m━━━━━━━━━━━━━━━━━━━━\u001b[0m\u001b[37m\u001b[0m \u001b[1m51s\u001b[0m 8ms/step - loss: 0.0020 - mae: 0.0343 - val_loss: 0.0041 - val_mae: 0.0487\n",
      "Epoch 38/50\n",
      "\u001b[1m6086/6086\u001b[0m \u001b[32m━━━━━━━━━━━━━━━━━━━━\u001b[0m\u001b[37m\u001b[0m \u001b[1m51s\u001b[0m 8ms/step - loss: 0.0020 - mae: 0.0342 - val_loss: 0.0042 - val_mae: 0.0494\n",
      "Epoch 39/50\n",
      "\u001b[1m6086/6086\u001b[0m \u001b[32m━━━━━━━━━━━━━━━━━━━━\u001b[0m\u001b[37m\u001b[0m \u001b[1m51s\u001b[0m 8ms/step - loss: 0.0020 - mae: 0.0339 - val_loss: 0.0041 - val_mae: 0.0490\n",
      "Epoch 40/50\n",
      "\u001b[1m6086/6086\u001b[0m \u001b[32m━━━━━━━━━━━━━━━━━━━━\u001b[0m\u001b[37m\u001b[0m \u001b[1m51s\u001b[0m 8ms/step - loss: 0.0019 - mae: 0.0337 - val_loss: 0.0041 - val_mae: 0.0491\n",
      "Epoch 41/50\n",
      "\u001b[1m6086/6086\u001b[0m \u001b[32m━━━━━━━━━━━━━━━━━━━━\u001b[0m\u001b[37m\u001b[0m \u001b[1m73s\u001b[0m 12ms/step - loss: 0.0019 - mae: 0.0336 - val_loss: 0.0042 - val_mae: 0.0497\n",
      "Epoch 42/50\n",
      "\u001b[1m6086/6086\u001b[0m \u001b[32m━━━━━━━━━━━━━━━━━━━━\u001b[0m\u001b[37m\u001b[0m \u001b[1m985s\u001b[0m 162ms/step - loss: 0.0019 - mae: 0.0336 - val_loss: 0.0042 - val_mae: 0.0498\n",
      "Epoch 43/50\n",
      "\u001b[1m6086/6086\u001b[0m \u001b[32m━━━━━━━━━━━━━━━━━━━━\u001b[0m\u001b[37m\u001b[0m \u001b[1m50s\u001b[0m 8ms/step - loss: 0.0019 - mae: 0.0334 - val_loss: 0.0042 - val_mae: 0.0495\n",
      "Epoch 44/50\n",
      "\u001b[1m6086/6086\u001b[0m \u001b[32m━━━━━━━━━━━━━━━━━━━━\u001b[0m\u001b[37m\u001b[0m \u001b[1m953s\u001b[0m 157ms/step - loss: 0.0019 - mae: 0.0331 - val_loss: 0.0041 - val_mae: 0.0490\n",
      "Epoch 45/50\n",
      "\u001b[1m6086/6086\u001b[0m \u001b[32m━━━━━━━━━━━━━━━━━━━━\u001b[0m\u001b[37m\u001b[0m \u001b[1m49s\u001b[0m 8ms/step - loss: 0.0018 - mae: 0.0329 - val_loss: 0.0043 - val_mae: 0.0499\n",
      "Epoch 46/50\n",
      "\u001b[1m6086/6086\u001b[0m \u001b[32m━━━━━━━━━━━━━━━━━━━━\u001b[0m\u001b[37m\u001b[0m \u001b[1m950s\u001b[0m 156ms/step - loss: 0.0019 - mae: 0.0330 - val_loss: 0.0043 - val_mae: 0.0500\n",
      "Epoch 47/50\n",
      "\u001b[1m6086/6086\u001b[0m \u001b[32m━━━━━━━━━━━━━━━━━━━━\u001b[0m\u001b[37m\u001b[0m \u001b[1m55s\u001b[0m 9ms/step - loss: 0.0018 - mae: 0.0329 - val_loss: 0.0043 - val_mae: 0.0502\n",
      "Epoch 48/50\n",
      "\u001b[1m6086/6086\u001b[0m \u001b[32m━━━━━━━━━━━━━━━━━━━━\u001b[0m\u001b[37m\u001b[0m \u001b[1m960s\u001b[0m 158ms/step - loss: 0.0018 - mae: 0.0327 - val_loss: 0.0043 - val_mae: 0.0505\n",
      "Epoch 49/50\n",
      "\u001b[1m6086/6086\u001b[0m \u001b[32m━━━━━━━━━━━━━━━━━━━━\u001b[0m\u001b[37m\u001b[0m \u001b[1m589s\u001b[0m 97ms/step - loss: 0.0018 - mae: 0.0327 - val_loss: 0.0043 - val_mae: 0.0501\n",
      "Epoch 50/50\n",
      "\u001b[1m6086/6086\u001b[0m \u001b[32m━━━━━━━━━━━━━━━━━━━━\u001b[0m\u001b[37m\u001b[0m \u001b[1m47s\u001b[0m 8ms/step - loss: 0.0018 - mae: 0.0325 - val_loss: 0.0043 - val_mae: 0.0503\n"
     ]
    }
   ],
   "source": [
    "# Train the model\n",
    "history = model.fit(\n",
    "    [city_input_data, numerical_input_data],\n",
    "    y,\n",
    "    validation_split=0.2,\n",
    "    epochs=50,\n",
    "    batch_size=32,\n",
    "    verbose=1\n",
    ")"
   ]
  },
  {
   "cell_type": "code",
   "execution_count": 53,
   "metadata": {},
   "outputs": [
    {
     "ename": "NameError",
     "evalue": "name 'city_input_test' is not defined",
     "output_type": "error",
     "traceback": [
      "\u001b[0;31m---------------------------------------------------------------------------\u001b[0m",
      "\u001b[0;31mNameError\u001b[0m                                 Traceback (most recent call last)",
      "Cell \u001b[0;32mIn[53], line 2\u001b[0m\n\u001b[1;32m      1\u001b[0m \u001b[38;5;66;03m# Evaluate the model\u001b[39;00m\n\u001b[0;32m----> 2\u001b[0m loss, mae \u001b[38;5;241m=\u001b[39m model\u001b[38;5;241m.\u001b[39mevaluate([\u001b[43mcity_input_test\u001b[49m, numerical_input_test], y_test, verbose\u001b[38;5;241m=\u001b[39m\u001b[38;5;241m1\u001b[39m)\n\u001b[1;32m      3\u001b[0m \u001b[38;5;28mprint\u001b[39m(\u001b[38;5;124mf\u001b[39m\u001b[38;5;124m\"\u001b[39m\u001b[38;5;124mTest Loss: \u001b[39m\u001b[38;5;132;01m{\u001b[39;00mloss\u001b[38;5;132;01m}\u001b[39;00m\u001b[38;5;124m, Test MAE: \u001b[39m\u001b[38;5;132;01m{\u001b[39;00mmae\u001b[38;5;132;01m}\u001b[39;00m\u001b[38;5;124m\"\u001b[39m)\n\u001b[1;32m      5\u001b[0m \u001b[38;5;66;03m# Predict on test data\u001b[39;00m\n",
      "\u001b[0;31mNameError\u001b[0m: name 'city_input_test' is not defined"
     ]
    }
   ],
   "source": [
    "# Evaluate the model\n",
    "loss, mae = model.evaluate([city_input_test, numerical_input_test], y_test, verbose=1)\n",
    "print(f\"Test Loss: {loss}, Test MAE: {mae}\")\n",
    "\n",
    "# Predict on test data\n",
    "y_pred = model.predict([city_input_test, numerical_input_test])\n",
    "\n",
    "# Reshape predictions and actual values if necessary\n",
    "y_pred = y_pred.flatten()  # Ensure predictions have the correct shape\n",
    "y_test = y_test.flatten()  # Ensure true values have the correct shape\n",
    "\n",
    "# Plot actual vs predicted\n",
    "import matplotlib.pyplot as plt\n",
    "\n",
    "plt.figure(figsize=(10, 6))\n",
    "plt.plot(y_test, label='Actual', marker='o', linestyle='-', alpha=0.7)\n",
    "plt.plot(y_pred, label='Predicted', marker='x', linestyle='--', alpha=0.7)\n",
    "plt.legend()\n",
    "plt.title('Actual vs Predicted Housing Prices')\n",
    "plt.xlabel('Sample Index')\n",
    "plt.ylabel('Scaled ClosePrice')\n",
    "plt.show()"
   ]
  }
 ],
 "metadata": {
  "kernelspec": {
   "display_name": "Python 3",
   "language": "python",
   "name": "python3"
  },
  "language_info": {
   "codemirror_mode": {
    "name": "ipython",
    "version": 3
   },
   "file_extension": ".py",
   "mimetype": "text/x-python",
   "name": "python",
   "nbconvert_exporter": "python",
   "pygments_lexer": "ipython3",
   "version": "3.12.3"
  }
 },
 "nbformat": 4,
 "nbformat_minor": 2
}
