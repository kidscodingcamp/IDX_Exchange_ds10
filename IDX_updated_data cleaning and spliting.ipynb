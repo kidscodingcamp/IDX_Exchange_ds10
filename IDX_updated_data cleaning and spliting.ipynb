{
 "cells": [
  {
   "cell_type": "code",
   "execution_count": 10,
   "id": "de7caca9-9627-4f98-b6e7-773d24af1c4f",
   "metadata": {},
   "outputs": [
    {
     "name": "stdout",
     "output_type": "stream",
     "text": [
      "           Flooring ViewYN WaterfrontYN BasementYN PoolPrivateYN  \\\n",
      "0  Carpet,Tile,Wood   True          NaN        NaN         False   \n",
      "1               NaN    NaN          NaN        NaN           NaN   \n",
      "2               NaN   True          NaN        NaN           NaN   \n",
      "3               NaN   True          NaN        NaN           NaN   \n",
      "4               NaN   True          NaN        NaN           NaN   \n",
      "\n",
      "   OriginalListPrice  ListingKey              ListAgentEmail   CloseDate  \\\n",
      "0           499000.0   551985747       jwachter@cbnorcal.com  2024-01-26   \n",
      "1                0.0   535486633  eabrown@lee-associates.com  2024-01-24   \n",
      "2            75000.0   529986282             Joe@9WINWIN.com  2024-01-16   \n",
      "3           199000.0   529618166    carolthefinder@yahoo.com  2024-01-08   \n",
      "4            19500.0   522614340      jtavisola@tavisola.com  2024-01-17   \n",
      "\n",
      "   ClosePrice  ... MainLevelBedrooms NewConstructionYN  GarageSpaces  \\\n",
      "0    240000.0  ...               NaN             False           1.0   \n",
      "1       950.0  ...               NaN               NaN           NaN   \n",
      "2     45000.0  ...               NaN             False           NaN   \n",
      "3    141500.0  ...               NaN             False           NaN   \n",
      "4     15000.0  ...               NaN             False           NaN   \n",
      "\n",
      "   HighSchoolDistrict PostalCode AssociationFee  LotSizeSquareFeet  \\\n",
      "0               Other      94401         6472.0                NaN   \n",
      "1                 NaN      92394            NaN            52320.0   \n",
      "2                 NaN      93240            NaN           217364.0   \n",
      "3                 NaN      92308            NaN           217800.0   \n",
      "4                 NaN      93544            0.0           108883.0   \n",
      "\n",
      "   MiddleOrJuniorSchoolDistrict  latfilled lonfilled  \n",
      "0                           NaN       True      True  \n",
      "1                           NaN      False     False  \n",
      "2                           NaN      False     False  \n",
      "3                           NaN      False     False  \n",
      "4                           NaN      False     False  \n",
      "\n",
      "[5 rows x 80 columns]\n"
     ]
    }
   ],
   "source": [
    "import pandas as pd\n",
    "import numpy as np\n",
    "from sklearn.model_selection import train_test_split, GridSearchCV\n",
    "from sklearn.preprocessing import StandardScaler, OneHotEncoder\n",
    "from sklearn.compose import ColumnTransformer\n",
    "from sklearn.pipeline import Pipeline\n",
    "from sklearn.linear_model import LinearRegression\n",
    "from sklearn.ensemble import RandomForestRegressor\n",
    "from sklearn.metrics import mean_squared_error\n",
    "import seaborn as sns\n",
    "import matplotlib.pyplot as plt\n",
    "\n",
    "df1 = pd.read_csv(\"CRMLSSold202401_filled.csv\")\n",
    "print(df1.head())"
   ]
  },
  {
   "cell_type": "code",
   "execution_count": 12,
   "id": "03f9b699-2492-4cc1-99bc-cc6cdc65b68d",
   "metadata": {},
   "outputs": [
    {
     "name": "stdout",
     "output_type": "stream",
     "text": [
      "Missing values:\n",
      " Flooring                         7854\n",
      "ViewYN                           1760\n",
      "WaterfrontYN                    17948\n",
      "BasementYN                      17693\n",
      "PoolPrivateYN                    2511\n",
      "                                ...  \n",
      "HighSchoolDistrict               6123\n",
      "PostalCode                         12\n",
      "AssociationFee                   5683\n",
      "LotSizeSquareFeet                1812\n",
      "MiddleOrJuniorSchoolDistrict    17958\n",
      "Length: 67, dtype: int64\n"
     ]
    }
   ],
   "source": [
    "missing_values = df1.isnull().sum()\n",
    "print(\"Missing values:\\n\", missing_values[missing_values > 0])"
   ]
  },
  {
   "cell_type": "code",
   "execution_count": 14,
   "id": "8041792e-438a-4dd0-a6ac-1258c71fff94",
   "metadata": {},
   "outputs": [],
   "source": [
    "# Drop columns with all missing values\n",
    "data = df1.dropna(axis=1, how='all')"
   ]
  },
  {
   "cell_type": "code",
   "execution_count": 16,
   "id": "8d6e7d7d-a442-455d-8e7f-4b93da04cc99",
   "metadata": {},
   "outputs": [
    {
     "data": {
      "text/plain": [
       "(Index(['OriginalListPrice', 'ListingKey', 'Latitude', 'Longitude',\n",
       "        'LivingArea', 'ListPrice', 'DaysOnMarket', 'ListingKeyNumeric',\n",
       "        'TaxAnnualAmount', 'ParkingTotal', 'LotSizeAcres', 'YearBuilt',\n",
       "        'StreetNumberNumeric', 'BathroomsTotalInteger',\n",
       "        'BuyerAgencyCompensation', 'TaxYear', 'BuildingAreaTotal',\n",
       "        'BedroomsTotal', 'BelowGradeFinishedArea', 'Stories', 'LotSizeArea',\n",
       "        'MainLevelBedrooms', 'GarageSpaces', 'AssociationFee',\n",
       "        'LotSizeSquareFeet'],\n",
       "       dtype='object'),\n",
       " Index(['Flooring', 'ViewYN', 'WaterfrontYN', 'BasementYN', 'PoolPrivateYN',\n",
       "        'ListAgentEmail', 'CloseDate', 'ListAgentFirstName',\n",
       "        'ListAgentLastName', 'UnparsedAddress', 'PropertyType',\n",
       "        'ListOfficeName', 'BuyerOfficeName', 'CoListOfficeName',\n",
       "        'ListAgentFullName', 'CoListAgentFirstName', 'CoListAgentLastName',\n",
       "        'BuyerAgentMlsId', 'BuyerAgentFirstName', 'BuyerAgentLastName',\n",
       "        'AssociationFeeFrequency', 'MLSAreaMajor', 'CountyOrParish',\n",
       "        'MlsStatus', 'ElementarySchool', 'AttachedGarageYN', 'BuilderName',\n",
       "        'PropertySubType', 'SubdivisionName', 'BuyerOfficeAOR',\n",
       "        'BuyerAgencyCompensationType', 'ListingId', 'City',\n",
       "        'ContractStatusChangeDate', 'CoBuyerAgentFirstName',\n",
       "        'PurchaseContractDate', 'ListingContractDate', 'BusinessType',\n",
       "        'StateOrProvince', 'MiddleOrJuniorSchool', 'FireplaceYN', 'HighSchool',\n",
       "        'Levels', 'LotSizeDimensions', 'NewConstructionYN',\n",
       "        'HighSchoolDistrict', 'PostalCode', 'latfilled', 'lonfilled'],\n",
       "       dtype='object'))"
      ]
     },
     "execution_count": 16,
     "metadata": {},
     "output_type": "execute_result"
    }
   ],
   "source": [
    "# Separate the target variable ('ClosePrice') and features\n",
    "X_df1 = data.drop(columns=['ClosePrice'])  # Assuming 'ClosePrice' is the target\n",
    "y_df1 = data['ClosePrice']\n",
    "# Identify numerical and categorical features\n",
    "num_features_df1 = X_df1.select_dtypes(include=['int64', 'float64']).columns\n",
    "cat_features_df1 = X_df1.select_dtypes(include=['object', 'bool']).columns\n",
    "num_features_df1, cat_features_df1"
   ]
  },
  {
   "cell_type": "code",
   "execution_count": 18,
   "id": "8f510b66-32e4-4023-85b5-f26da87adb63",
   "metadata": {},
   "outputs": [],
   "source": [
    "from sklearn.model_selection import train_test_split\n",
    "X_train_df1, X_test_df1, y_train_df1, y_test_df1 = train_test_split(X_df1, y_df1, test_size=0.2, random_state=42)"
   ]
  },
  {
   "cell_type": "code",
   "execution_count": 20,
   "id": "ca7be0cd-6fd6-4f8a-aca6-8577f45d6e5e",
   "metadata": {},
   "outputs": [],
   "source": [
    "df2 = pd.read_csv(\"CRMLSSold202402_filled.csv\")"
   ]
  },
  {
   "cell_type": "code",
   "execution_count": 38,
   "id": "dfa7a187-e0c9-4370-8350-cba908b8bb20",
   "metadata": {},
   "outputs": [
    {
     "name": "stdout",
     "output_type": "stream",
     "text": [
      "Missing values:\n",
      " Flooring                         8567\n",
      "ViewYN                           1925\n",
      "WaterfrontYN                    19910\n",
      "BasementYN                      19630\n",
      "PoolPrivateYN                    2833\n",
      "                                ...  \n",
      "HighSchoolDistrict               6860\n",
      "PostalCode                          8\n",
      "AssociationFee                   6124\n",
      "LotSizeSquareFeet                2122\n",
      "MiddleOrJuniorSchoolDistrict    19925\n",
      "Length: 66, dtype: int64\n"
     ]
    }
   ],
   "source": [
    "missing_values_df2 = df2.isnull().sum()\n",
    "print(\"Missing values:\\n\", missing_values_df2[missing_values_df2 > 0])"
   ]
  },
  {
   "cell_type": "code",
   "execution_count": 48,
   "id": "ec72d406-34ef-4cce-94d0-d025c0bc2b1e",
   "metadata": {},
   "outputs": [],
   "source": [
    "# Drop columns with all missing values\n",
    "data_2 = df2.dropna(axis=1, how='all')"
   ]
  },
  {
   "cell_type": "code",
   "execution_count": 50,
   "id": "0220e6ae-eb7c-416a-8034-9527978e99c0",
   "metadata": {},
   "outputs": [],
   "source": [
    "# Separate the target variable ('ClosePrice') and features\n",
    "X_df2 = data_2.drop(columns=['ClosePrice'])\n",
    "y_df2 = data_2['ClosePrice']"
   ]
  },
  {
   "cell_type": "code",
   "execution_count": 52,
   "id": "e3ffb4ac-4d1f-41be-988f-58d899f3d7fa",
   "metadata": {},
   "outputs": [],
   "source": [
    "from sklearn.model_selection import train_test_split\n",
    "X_train_df2, X_test_df2, y_train_df2, y_test_df2 = train_test_split(X_df2, y_df2, test_size=0.2, random_state=42)"
   ]
  },
  {
   "cell_type": "code",
   "execution_count": 60,
   "id": "1008ec82-69a9-455f-957e-4b3e6f580e27",
   "metadata": {},
   "outputs": [
    {
     "name": "stdout",
     "output_type": "stream",
     "text": [
      "Missing values:\n",
      " Flooring                         9806\n",
      "ViewYN                           2207\n",
      "WaterfrontYN                    23264\n",
      "BasementYN                      22937\n",
      "PoolPrivateYN                    3333\n",
      "                                ...  \n",
      "HighSchoolDistrict               7589\n",
      "PostalCode                          6\n",
      "AssociationFee                   7171\n",
      "LotSizeSquareFeet                2394\n",
      "MiddleOrJuniorSchoolDistrict    23276\n",
      "Length: 66, dtype: int64\n"
     ]
    }
   ],
   "source": [
    "df3 = pd.read_csv(\"CRMLSSold202403_filled.csv\")\n",
    "missing_values_df3 = df3.isnull().sum()\n",
    "print(\"Missing values:\\n\", missing_values_df3[missing_values_df3 > 0])"
   ]
  },
  {
   "cell_type": "code",
   "execution_count": 62,
   "id": "b94752b8-7ed5-4a18-9478-040e4a8df884",
   "metadata": {},
   "outputs": [],
   "source": [
    "data_3 = df3.dropna(axis=1, how='all')"
   ]
  },
  {
   "cell_type": "code",
   "execution_count": 78,
   "id": "22830714-660b-49a1-b75c-475a4e284a8a",
   "metadata": {},
   "outputs": [],
   "source": [
    "X_df3 = data_3.drop(columns=['ClosePrice'])\n",
    "y_df3 = data_3['ClosePrice']\n",
    "from sklearn.model_selection import train_test_split\n",
    "X_train_df3, X_test_df3, y_train_df3, y_test_df3 = train_test_split(X_df3, y_df3, test_size=0.2, random_state=42)"
   ]
  },
  {
   "cell_type": "code",
   "execution_count": 66,
   "id": "a87ebe64-40c3-4628-884d-ccc69fc73610",
   "metadata": {},
   "outputs": [
    {
     "name": "stdout",
     "output_type": "stream",
     "text": [
      "Missing values:\n",
      " Flooring                        10198\n",
      "ViewYN                           2363\n",
      "WaterfrontYN                    24624\n",
      "BasementYN                      24246\n",
      "PoolPrivateYN                    3653\n",
      "                                ...  \n",
      "HighSchoolDistrict               7920\n",
      "PostalCode                          2\n",
      "AssociationFee                   7471\n",
      "LotSizeSquareFeet                2451\n",
      "MiddleOrJuniorSchoolDistrict    24640\n",
      "Length: 66, dtype: int64\n"
     ]
    },
    {
     "name": "stderr",
     "output_type": "stream",
     "text": [
      "/var/folders/h5/g84z18_5129d8mxkcdyvhvyr0000gn/T/ipykernel_23852/1749222433.py:1: DtypeWarning: Columns (2,36,39,56,74) have mixed types. Specify dtype option on import or set low_memory=False.\n",
      "  df4 = pd.read_csv(\"CRMLSSold202404_filled.csv\")\n"
     ]
    }
   ],
   "source": [
    "df4 = pd.read_csv(\"CRMLSSold202404_filled.csv\")\n",
    "missing_values_df4 = df4.isnull().sum()\n",
    "print(\"Missing values:\\n\", missing_values_df4[missing_values_df4 > 0])"
   ]
  },
  {
   "cell_type": "code",
   "execution_count": 68,
   "id": "316c1162-39bb-4422-b422-96075b98271e",
   "metadata": {},
   "outputs": [],
   "source": [
    "data_4 = df4.dropna(axis=1, how='all')"
   ]
  },
  {
   "cell_type": "code",
   "execution_count": 76,
   "id": "b8983c32-b5f6-4bc1-b2f9-6ddc7aeee688",
   "metadata": {},
   "outputs": [],
   "source": [
    "X_df4 = data_4.drop(columns=['ClosePrice'])\n",
    "y_df4 = data_4['ClosePrice']\n",
    "from sklearn.model_selection import train_test_split\n",
    "X_train_df4, X_test_df4, y_train_df4, y_test_df4 = train_test_split(X_df4, y_df4, test_size=0.2, random_state=42)"
   ]
  },
  {
   "cell_type": "code",
   "execution_count": 80,
   "id": "c635df65-3be0-4a4e-9a5b-07b2215d1742",
   "metadata": {},
   "outputs": [
    {
     "name": "stdout",
     "output_type": "stream",
     "text": [
      "Missing values:\n",
      " BuyerAgentAOR                      14\n",
      "ListAgentAOR                       14\n",
      "Flooring                        10691\n",
      "ViewYN                           2661\n",
      "WaterfrontYN                    26478\n",
      "                                ...  \n",
      "HighSchoolDistrict               8563\n",
      "PostalCode                         16\n",
      "AssociationFee                   8386\n",
      "LotSizeSquareFeet                2752\n",
      "MiddleOrJuniorSchoolDistrict    26487\n",
      "Length: 66, dtype: int64\n"
     ]
    }
   ],
   "source": [
    "df5 = pd.read_csv(\"CRMLSSold202405_filled.csv\")\n",
    "missing_values_df5 = df5.isnull().sum()\n",
    "print(\"Missing values:\\n\", missing_values_df5[missing_values_df5 > 0])"
   ]
  },
  {
   "cell_type": "code",
   "execution_count": 82,
   "id": "672ad824-dc0f-4e4a-98cc-76208c8dba2e",
   "metadata": {},
   "outputs": [],
   "source": [
    "data_5 = df5.dropna(axis=1, how='all')"
   ]
  },
  {
   "cell_type": "code",
   "execution_count": 88,
   "id": "462ed1a4-f149-4127-a714-849aa65ff7a2",
   "metadata": {},
   "outputs": [],
   "source": [
    "X_df5 = data_5.drop(columns=['ClosePrice'])\n",
    "y_df5 = data_5['ClosePrice']\n",
    "from sklearn.model_selection import train_test_split\n",
    "X_train_df5, X_test_df5, y_train_df5, y_test_df5 = train_test_split(X_df5, y_df5, test_size=0.2, random_state=42)"
   ]
  },
  {
   "cell_type": "code",
   "execution_count": 90,
   "id": "cecfbcc8-bdc3-4b73-a280-8531ac775fa2",
   "metadata": {},
   "outputs": [
    {
     "name": "stdout",
     "output_type": "stream",
     "text": [
      "Missing values:\n",
      " BuyerAgentAOR                       7\n",
      "ListAgentAOR                        7\n",
      "Flooring                         9785\n",
      "ViewYN                           2430\n",
      "WaterfrontYN                    24315\n",
      "                                ...  \n",
      "HighSchoolDistrict               7785\n",
      "PostalCode                          5\n",
      "AssociationFee                   7840\n",
      "LotSizeSquareFeet                2562\n",
      "MiddleOrJuniorSchoolDistrict    24328\n",
      "Length: 67, dtype: int64\n"
     ]
    }
   ],
   "source": [
    "df6 = pd.read_csv(\"CRMLSSold202406_filled.csv\")\n",
    "missing_values_df6 = df6.isnull().sum()\n",
    "print(\"Missing values:\\n\", missing_values_df6[missing_values_df6 > 0])"
   ]
  },
  {
   "cell_type": "code",
   "execution_count": 110,
   "id": "274ca357-245a-4528-940d-a1c2333f4cc1",
   "metadata": {},
   "outputs": [],
   "source": [
    "data_6 = df6.dropna(axis=1, how='all')\n",
    "X_df6 = data_6.drop(columns=['ClosePrice'])\n",
    "y_df6 = data_6['ClosePrice']\n",
    "from sklearn.model_selection import train_test_split\n",
    "X_train_df6, X_test_df6, y_train_df6, y_test_df6 = train_test_split(X_df6, y_df6, test_size=0.2, random_state=42)"
   ]
  },
  {
   "cell_type": "code",
   "execution_count": 104,
   "id": "e583a807-a2ff-4691-aac6-38eb5dc38aba",
   "metadata": {},
   "outputs": [
    {
     "name": "stdout",
     "output_type": "stream",
     "text": [
      "Missing values:\n",
      " BuyerAgentAOR                      10\n",
      "ListAgentAOR                       10\n",
      "Flooring                        10525\n",
      "ViewYN                           2548\n",
      "WaterfrontYN                    26223\n",
      "                                ...  \n",
      "HighSchoolDistrict               8367\n",
      "PostalCode                          7\n",
      "AssociationFee                   8441\n",
      "LotSizeSquareFeet                2690\n",
      "MiddleOrJuniorSchoolDistrict    26240\n",
      "Length: 66, dtype: int64\n"
     ]
    }
   ],
   "source": [
    "df7 = pd.read_csv(\"CRMLSSold202407_filled.csv\")\n",
    "missing_values_df7 = df7.isnull().sum()\n",
    "print(\"Missing values:\\n\", missing_values_df7[missing_values_df7 > 0])"
   ]
  },
  {
   "cell_type": "code",
   "execution_count": 112,
   "id": "19ebd5bf-d486-4768-b30d-fd38cdac6794",
   "metadata": {},
   "outputs": [],
   "source": [
    "data_7 = df7.dropna(axis=1, how='all')\n",
    "X_df7 = data_7.drop(columns=['ClosePrice'])\n",
    "y_df7 = data_7['ClosePrice']\n",
    "from sklearn.model_selection import train_test_split\n",
    "X_train_df7, X_test_df7, y_train_df7, y_test_df7 = train_test_split(X_df7, y_df7, test_size=0.2, random_state=42)"
   ]
  },
  {
   "cell_type": "code",
   "execution_count": 94,
   "id": "5b1cab3a-f7f2-42e5-96b6-c400a2de901f",
   "metadata": {},
   "outputs": [
    {
     "name": "stdout",
     "output_type": "stream",
     "text": [
      "Missing values:\n",
      " BuyerAgentAOR                      12\n",
      "ListAgentAOR                       12\n",
      "Flooring                         9782\n",
      "ViewYN                           2520\n",
      "WaterfrontYN                    24550\n",
      "                                ...  \n",
      "HighSchoolDistrict               7965\n",
      "PostalCode                         11\n",
      "AssociationFee                   7854\n",
      "LotSizeSquareFeet                2545\n",
      "MiddleOrJuniorSchoolDistrict    24558\n",
      "Length: 66, dtype: int64\n"
     ]
    }
   ],
   "source": [
    "df8 = pd.read_csv(\"CRMLSSold202408.csv\")\n",
    "missing_values_df8 = df8.isnull().sum()\n",
    "print(\"Missing values:\\n\", missing_values_df8[missing_values_df8 > 0])"
   ]
  },
  {
   "cell_type": "code",
   "execution_count": 124,
   "id": "17e1bbc6-c036-466b-b86f-8fffcba12a4b",
   "metadata": {},
   "outputs": [],
   "source": [
    "data_8 = df8.dropna(axis=1, how='all')\n",
    "X_df8 = data_8.drop(columns=['ClosePrice'])\n",
    "y_df8 = data_8['ClosePrice']\n",
    "from sklearn.model_selection import train_test_split\n",
    "X_train_df8, X_test_df8, y_train_df8, y_test_df8 = train_test_split(X_df8, y_df8, test_size=0.2, random_state=42)"
   ]
  },
  {
   "cell_type": "code",
   "execution_count": 126,
   "id": "9de0e402-9d39-4494-a32b-879b785a9f6b",
   "metadata": {},
   "outputs": [
    {
     "name": "stdout",
     "output_type": "stream",
     "text": [
      "Missing values:\n",
      " BuyerAgentAOR                       7\n",
      "ListAgentAOR                        7\n",
      "Flooring                         8708\n",
      "ViewYN                           2218\n",
      "WaterfrontYN                    21260\n",
      "                                ...  \n",
      "HighSchoolDistrict               6685\n",
      "PostalCode                          4\n",
      "AssociationFee                   6684\n",
      "LotSizeSquareFeet                2078\n",
      "MiddleOrJuniorSchoolDistrict    21267\n",
      "Length: 66, dtype: int64\n"
     ]
    }
   ],
   "source": [
    "df9 = pd.read_csv(\"CRMLSSold202409.csv\")\n",
    "missing_values_df9 = df9.isnull().sum()\n",
    "print(\"Missing values:\\n\", missing_values_df9[missing_values_df9 > 0])"
   ]
  },
  {
   "cell_type": "code",
   "execution_count": 128,
   "id": "e5ae55c0-7de4-4459-8bf4-aeadda555c78",
   "metadata": {},
   "outputs": [],
   "source": [
    "data_9 = df9.dropna(axis=1, how='all')\n",
    "X_df9 = data_9.drop(columns=['ClosePrice'])\n",
    "y_df9 = data_9['ClosePrice']\n",
    "from sklearn.model_selection import train_test_split\n",
    "X_train_df9, X_test_df9, y_train_df9, y_test_df9 = train_test_split(X_df9, y_df9, test_size=0.2, random_state=42)"
   ]
  },
  {
   "cell_type": "code",
   "execution_count": 98,
   "id": "df40a9d8-509c-4513-a22d-53537db014c1",
   "metadata": {},
   "outputs": [
    {
     "name": "stdout",
     "output_type": "stream",
     "text": [
      "Missing values:\n",
      " Flooring                        1472\n",
      "ViewYN                           468\n",
      "WaterfrontYN                    2931\n",
      "BasementYN                      2901\n",
      "PoolPrivateYN                    617\n",
      "                                ... \n",
      "AssociationFee                   682\n",
      "LotSizeSquareFeet                263\n",
      "MiddleOrJuniorSchoolDistrict    2936\n",
      "latfilled                          1\n",
      "lonfilled                          1\n",
      "Length: 79, dtype: int64\n"
     ]
    }
   ],
   "source": [
    "df10 = pd.read_csv(\"CRMLSSold20220101_20231231_filled.csv\")\n",
    "missing_values_df10 = df10.isnull().sum()\n",
    "print(\"Missing values:\\n\", missing_values_df10[missing_values_df10 > 0])"
   ]
  },
  {
   "cell_type": "code",
   "execution_count": 134,
   "id": "6f8d12a0-b6ec-4190-a2be-e319caca008c",
   "metadata": {},
   "outputs": [],
   "source": [
    "data_10 = df10.dropna(axis=1, how='all')\n",
    "X_df10 = data_10.drop(columns=['ClosePrice'])\n",
    "y_df10 = data_10['ClosePrice']\n",
    "from sklearn.model_selection import train_test_split\n",
    "X_train_df10, X_test_df10, y_train_df10, y_test_df10 = train_test_split(X_df10, y_df10, test_size=0.2, random_state=42)"
   ]
  },
  {
   "cell_type": "code",
   "execution_count": null,
   "id": "1a790020-a1a9-4c39-9812-4787cb9befdb",
   "metadata": {},
   "outputs": [],
   "source": []
  }
 ],
 "metadata": {
  "kernelspec": {
   "display_name": "Python 3 (ipykernel)",
   "language": "python",
   "name": "python3"
  },
  "language_info": {
   "codemirror_mode": {
    "name": "ipython",
    "version": 3
   },
   "file_extension": ".py",
   "mimetype": "text/x-python",
   "name": "python",
   "nbconvert_exporter": "python",
   "pygments_lexer": "ipython3",
   "version": "3.12.4"
  }
 },
 "nbformat": 4,
 "nbformat_minor": 5
}
